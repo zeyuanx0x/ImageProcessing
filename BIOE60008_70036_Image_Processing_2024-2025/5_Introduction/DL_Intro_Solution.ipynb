{
  "cells": [
    {
      "cell_type": "markdown",
      "id": "e2ee7d10",
      "metadata": {
        "id": "e2ee7d10"
      },
      "source": [
        "<div align='center'><div align='center'>\n",
        "    \n",
        "# **Image Processing**\n",
        "\n",
        "</div>"
      ]
    },
    {
      "cell_type": "markdown",
      "id": "fc1c41ee",
      "metadata": {
        "id": "fc1c41ee"
      },
      "source": [
        "## **Introduction to Loading Dataset**\n",
        "\n",
        "In this section, we will focus on the **Loading Datasets**, specifically using the widely recognized MNIST dataset. The process of loading the dataset involves several key steps, including:\n",
        "\n",
        "1. **Import Libraries**: Utilizing PyTorch's `torchvision` library to efficiently load and handle the data.\n",
        "2. **Data Preprocessing**: Applying transformations such as converting images to tensors and normalizing pixel values.\n",
        "3. **Splitting the Data**: Separating the dataset into **training** and **testing** sets to ensure proper evaluation.\n",
        "\n",
        "By the end of this section, you will understand how to prepare the MNIST dataset for training and testing in a machine learning model.\n",
        "\n",
        "**What is the MNIST Dataset?**\n",
        "The MNIST dataset (Modified National Institute of Standards and Technology database) is a widely used benchmark dataset for image processing and machine learning. It consists of 70,000 grayscale images of handwritten digits (0-9), with:\n",
        "- **60,000 images for training**\n",
        "- **10,000 images for testing**\n",
        "\n",
        "Each image is **28x28 pixels** in size, and the goal is to classify the digit in the image. This dataset is often used for evaluating classification algorithms in computer vision and deep learning."
      ]
    },
    {
      "cell_type": "markdown",
      "id": "05054cdc",
      "metadata": {
        "id": "05054cdc"
      },
      "source": [
        "### **Import Libraries**:"
      ]
    },
    {
      "cell_type": "code",
      "execution_count": 1,
      "id": "335b1f50",
      "metadata": {
        "id": "335b1f50"
      },
      "outputs": [],
      "source": [
        "from torchvision import datasets, transforms\n",
        "from torch.utils.data import DataLoader"
      ]
    },
    {
      "cell_type": "markdown",
      "id": "762401c0",
      "metadata": {
        "id": "762401c0"
      },
      "source": [
        "### **Data Preprocessing**:\n",
        "**ToTensor():** Converts images into PyTorch tensors and normalizes pixel values to the range [0, 1].\n",
        "\n",
        "**Normalize((0.5,), (0.5,)):** Further normalizes the data to have a mean of 0 and a standard deviation of 1, scaling pixel values to [-1, 1]"
      ]
    },
    {
      "cell_type": "code",
      "execution_count": 2,
      "id": "e150405a",
      "metadata": {
        "id": "e150405a"
      },
      "outputs": [],
      "source": [
        "transform = transforms.Compose([\n",
        "    transforms.ToTensor(),\n",
        "    transforms.Normalize((0.5,), (0.5,))\n",
        "])"
      ]
    },
    {
      "cell_type": "markdown",
      "id": "62a36892",
      "metadata": {
        "id": "62a36892"
      },
      "source": [
        "### **Load Training Dataset**:\n",
        "The training set is used to teach the model by adjusting weights based on prediction errors."
      ]
    },
    {
      "cell_type": "code",
      "execution_count": 3,
      "id": "bfa11f6d",
      "metadata": {
        "id": "bfa11f6d",
        "outputId": "2293d355-2ce1-4a0b-e0cb-9fa73da622bd",
        "colab": {
          "base_uri": "https://localhost:8080/"
        }
      },
      "outputs": [
        {
          "output_type": "stream",
          "name": "stdout",
          "text": [
            "Downloading http://yann.lecun.com/exdb/mnist/train-images-idx3-ubyte.gz\n",
            "Failed to download (trying next):\n",
            "HTTP Error 404: Not Found\n",
            "\n",
            "Downloading https://ossci-datasets.s3.amazonaws.com/mnist/train-images-idx3-ubyte.gz\n",
            "Downloading https://ossci-datasets.s3.amazonaws.com/mnist/train-images-idx3-ubyte.gz to ./data/MNIST/raw/train-images-idx3-ubyte.gz\n"
          ]
        },
        {
          "output_type": "stream",
          "name": "stderr",
          "text": [
            "100%|██████████| 9.91M/9.91M [00:00<00:00, 16.2MB/s]\n"
          ]
        },
        {
          "output_type": "stream",
          "name": "stdout",
          "text": [
            "Extracting ./data/MNIST/raw/train-images-idx3-ubyte.gz to ./data/MNIST/raw\n",
            "\n",
            "Downloading http://yann.lecun.com/exdb/mnist/train-labels-idx1-ubyte.gz\n",
            "Failed to download (trying next):\n",
            "HTTP Error 404: Not Found\n",
            "\n",
            "Downloading https://ossci-datasets.s3.amazonaws.com/mnist/train-labels-idx1-ubyte.gz\n",
            "Downloading https://ossci-datasets.s3.amazonaws.com/mnist/train-labels-idx1-ubyte.gz to ./data/MNIST/raw/train-labels-idx1-ubyte.gz\n"
          ]
        },
        {
          "output_type": "stream",
          "name": "stderr",
          "text": [
            "100%|██████████| 28.9k/28.9k [00:00<00:00, 481kB/s]\n"
          ]
        },
        {
          "output_type": "stream",
          "name": "stdout",
          "text": [
            "Extracting ./data/MNIST/raw/train-labels-idx1-ubyte.gz to ./data/MNIST/raw\n",
            "\n",
            "Downloading http://yann.lecun.com/exdb/mnist/t10k-images-idx3-ubyte.gz\n",
            "Failed to download (trying next):\n",
            "HTTP Error 404: Not Found\n",
            "\n",
            "Downloading https://ossci-datasets.s3.amazonaws.com/mnist/t10k-images-idx3-ubyte.gz\n",
            "Downloading https://ossci-datasets.s3.amazonaws.com/mnist/t10k-images-idx3-ubyte.gz to ./data/MNIST/raw/t10k-images-idx3-ubyte.gz\n"
          ]
        },
        {
          "output_type": "stream",
          "name": "stderr",
          "text": [
            "100%|██████████| 1.65M/1.65M [00:00<00:00, 4.46MB/s]\n"
          ]
        },
        {
          "output_type": "stream",
          "name": "stdout",
          "text": [
            "Extracting ./data/MNIST/raw/t10k-images-idx3-ubyte.gz to ./data/MNIST/raw\n",
            "\n",
            "Downloading http://yann.lecun.com/exdb/mnist/t10k-labels-idx1-ubyte.gz\n",
            "Failed to download (trying next):\n",
            "HTTP Error 404: Not Found\n",
            "\n",
            "Downloading https://ossci-datasets.s3.amazonaws.com/mnist/t10k-labels-idx1-ubyte.gz\n",
            "Downloading https://ossci-datasets.s3.amazonaws.com/mnist/t10k-labels-idx1-ubyte.gz to ./data/MNIST/raw/t10k-labels-idx1-ubyte.gz\n"
          ]
        },
        {
          "output_type": "stream",
          "name": "stderr",
          "text": [
            "100%|██████████| 4.54k/4.54k [00:00<00:00, 7.89MB/s]"
          ]
        },
        {
          "output_type": "stream",
          "name": "stdout",
          "text": [
            "Extracting ./data/MNIST/raw/t10k-labels-idx1-ubyte.gz to ./data/MNIST/raw\n",
            "\n"
          ]
        },
        {
          "output_type": "stream",
          "name": "stderr",
          "text": [
            "\n"
          ]
        }
      ],
      "source": [
        "train_dataset = datasets.MNIST(root='./data', train=True, transform=transform, download=True)"
      ]
    },
    {
      "cell_type": "markdown",
      "id": "f03d1fb7",
      "metadata": {
        "id": "f03d1fb7"
      },
      "source": [
        "### **Load Testing Dataset**:\n",
        "The testing set is used to evaluate how well the model generalizes to unseen data, providing an unbiased performance metric."
      ]
    },
    {
      "cell_type": "code",
      "execution_count": 4,
      "id": "afd60357",
      "metadata": {
        "id": "afd60357"
      },
      "outputs": [],
      "source": [
        "test_dataset = datasets.MNIST(root='./data', train=False, transform=transform, download=False)"
      ]
    },
    {
      "cell_type": "markdown",
      "id": "f500727b",
      "metadata": {
        "id": "f500727b"
      },
      "source": [
        "### **Visualize a few samples from the dataset**:\n",
        "`matplotlib.pyplot` is a core module in the `matplotlib` library, a popular Python library used for creating static, interactive, and animated visualizations. It provides a MATLAB-like interface for plotting, making it simple to generate a wide range of visualizations, from basic plots to complex graphics.\n",
        "\n",
        "The module is typically imported using the alias `plt`:\n",
        "```python\n",
        "import matplotlib.pyplot as plt\n",
        "\n",
        "<div style=\"background:#EEEEFF;color:black\">\n",
        "    \n",
        "**Exercise 1.1.5**\n",
        "Please attempt to visualize a few samples from the MNIST dataset. Follow these steps:\n",
        "\n",
        "1.Use the train_dataset defined earlier.\n",
        "\n",
        "2.Access a few data samples (e.g., the first 5 images and their corresponding labels).\n",
        "\n",
        "3.Plot these images using matplotlib.pyplot.imshow with a grayscale colormap.\n",
        "\n",
        "4.Display their labels alongside the images.\n",
        "\n",
        "</div>"
      ]
    },
    {
      "cell_type": "code",
      "execution_count": 4,
      "id": "6b4e06c8",
      "metadata": {
        "id": "6b4e06c8"
      },
      "outputs": [],
      "source": []
    },
    {
      "cell_type": "markdown",
      "id": "a55f3664",
      "metadata": {
        "id": "a55f3664"
      },
      "source": [
        "## **Introduction of Different Machine Learning Models**\n",
        "\n",
        "This code demonstrates the implementation of four types of neural network architectures for image classification tasks. These models vary in complexity and are suitable for different purposes."
      ]
    },
    {
      "cell_type": "markdown",
      "id": "ab78b73b",
      "metadata": {
        "id": "ab78b73b"
      },
      "source": [
        "### Perceptron Model\n",
        "The **Perceptron** is the simplest neural network architecture, consisting of a single fully connected layer. It is used for basic linear classification tasks."
      ]
    },
    {
      "cell_type": "code",
      "execution_count": 5,
      "id": "6957b070",
      "metadata": {
        "id": "6957b070",
        "outputId": "58effbee-24a2-4be6-ade2-e14decdfa7e7",
        "colab": {
          "base_uri": "https://localhost:8080/"
        }
      },
      "outputs": [
        {
          "output_type": "stream",
          "name": "stdout",
          "text": [
            "Perceptron(\n",
            "  (fc): Linear(in_features=784, out_features=10, bias=True)\n",
            ")\n"
          ]
        }
      ],
      "source": [
        "import torch\n",
        "import torch.nn as nn\n",
        "import torch.optim as optim\n",
        "from torchvision import datasets, transforms\n",
        "from torch.utils.data import DataLoader\n",
        "\n",
        "# Define the Perceptron model\n",
        "class Perceptron(nn.Module):\n",
        "    def __init__(self):\n",
        "        super(Perceptron, self).__init__()\n",
        "        self.fc = nn.Linear(28 * 28, 10)  # Input size: 28x28, Output size: 10 classes\n",
        "\n",
        "    def forward(self, x):\n",
        "        x = x.view(x.size(0), -1)  # Flatten the input\n",
        "        return self.fc(x)\n",
        "\n",
        "model = Perceptron()\n",
        "print(model)"
      ]
    },
    {
      "cell_type": "markdown",
      "id": "9d6204b8-1d23-4920-9307-9ffe8895ef0a",
      "metadata": {
        "id": "9d6204b8-1d23-4920-9307-9ffe8895ef0a"
      },
      "source": [
        "The Perceptron can handle basic linear classification tasks, where the data is linearly separable.\n",
        "\n",
        "However, it still has challenges in non-linearity. The role of the activation function is crucial because. Without it, the model would essentially be performing linear regression, limiting its ability to solve complex problems. For instance, the absence of a non-linear activation function prevents the network from capturing non-linear relationships in the data. Activation functions, such as ReLU (Rectified Linear Unit), sigmoid, or tanh, enable the Perceptron to model more intricate decision boundaries, making it a fundamental building block for more advanced architectures."
      ]
    },
    {
      "cell_type": "markdown",
      "id": "7ee5455b",
      "metadata": {
        "id": "7ee5455b"
      },
      "source": [
        "### Introduction of Activation Functions in Neural Networks\n",
        "\n",
        "Activation functions are a critical component of neural networks, introducing non-linearity that allows the network to model complex relationships. This section explores popular activation functions, their properties, and their visualizations.\n",
        "\n",
        "---\n",
        "**ReLU (Rectified Linear Unit)**\n",
        "- Formula:\n",
        "\\begin{equation}\n",
        "  f(x) = \\max(0, x)\n",
        "\\end{equation}\n",
        "- Characteristics:\n",
        "  - Simple and computationally efficient.\n",
        "  - Introduces sparsity, as negative values are mapped to 0.\n",
        "  - Commonly used in deep learning architectures.\n",
        "\n",
        "---\n",
        "<div style=\"background:#EEEEFF;color:black\">\n",
        "\n",
        "**Exercise 1.2.1**: In this exercise, you will Visualize the ReLU. Follow these steps:\n",
        "1. Import Required Libraries\n",
        "   - Import necessary libraries like `numpy` and `matplotlib` to perform calculations and create plots.\n",
        "\n",
        "   ```python\n",
        "   import numpy as np\n",
        "   import matplotlib.pyplot as plt\n",
        "   ```\n",
        "\n",
        "2. Define the ReLU Function: Write a simple Python function to compute the output of the ReLU activation\n",
        "    \n",
        "    ```python\n",
        "   def relu(x):\n",
        "       return np.maximum(0, x)\n",
        "    ```\n",
        "    \n",
        "3. Visualize the ReLU Function: Plot the input vs. output relationship using ```matplotlib```\n",
        "\n",
        "</div>"
      ]
    },
    {
      "cell_type": "code",
      "execution_count": 5,
      "id": "c6fb4718",
      "metadata": {
        "id": "c6fb4718"
      },
      "outputs": [],
      "source": []
    },
    {
      "cell_type": "markdown",
      "id": "9f745251",
      "metadata": {
        "id": "9f745251"
      },
      "source": [
        "**Sigmoid**\n",
        "- Formula:\n",
        "\\begin{equation}\n",
        "  f(x) = \\frac{1}{1 + e^{-x}}\n",
        "\\end{equation}\n",
        "- Characteristics:\n",
        "  - Maps input values to the range (0, 1).\n",
        "  - Suitable for probabilities.\n",
        "  - Suffering from vanishing gradient issues for large positive/negative inputs.\n",
        "\n",
        "---"
      ]
    },
    {
      "cell_type": "code",
      "execution_count": 6,
      "id": "5fbf083a",
      "metadata": {
        "id": "5fbf083a",
        "outputId": "dcab3632-41dd-4985-97e2-a5a879295317",
        "colab": {
          "base_uri": "https://localhost:8080/",
          "height": 333
        }
      },
      "outputs": [
        {
          "output_type": "display_data",
          "data": {
            "text/plain": [
              "<Figure size 400x300 with 1 Axes>"
            ],
            "image/png": "[encoded data removed]"
          },
          "metadata": {}
        }
      ],
      "source": [
        "import torch\n",
        "import matplotlib.pyplot as plt\n",
        "import torch.nn.functional as F\n",
        "\n",
        "# Input range for visualization\n",
        "x = torch.linspace(-10, 10, 100)\n",
        "\n",
        "# Compute values for different activation functions\n",
        "sigmoid_y = torch.sigmoid(x)\n",
        "\n",
        "# Visualization\n",
        "plt.figure(figsize=(4, 3))\n",
        "# Sigmoid\n",
        "plt.plot(x.numpy(), sigmoid_y.numpy(), label='Sigmoid', color='green')\n",
        "\n",
        "# Graph styling\n",
        "plt.title('Activation Functions')\n",
        "plt.xlabel('Input')\n",
        "plt.ylabel('Output')\n",
        "plt.legend()\n",
        "plt.grid()\n",
        "plt.show()"
      ]
    },
    {
      "cell_type": "markdown",
      "id": "c3259d22",
      "metadata": {
        "id": "c3259d22"
      },
      "source": [
        "**Tanh (Hyperbolic Tangent)**\n",
        "\n",
        "- Formula:\n",
        "\\begin{equation}\n",
        "  f(x) = \\frac{e^x - e^{-x}}{e^x + e^{-x}}\n",
        "\\end{equation}\n",
        "- Characteristics:\n",
        "  - Maps input values to the range (-1, 1).\n",
        "  - Zero-centered, which helps optimization.\n",
        "  - Like Sigmoid, suffers from vanishing gradients for large inputs.\n",
        "\n",
        "---"
      ]
    },
    {
      "cell_type": "code",
      "execution_count": 7,
      "id": "4cea3d4e",
      "metadata": {
        "id": "4cea3d4e",
        "outputId": "1f021e09-d7eb-400c-8dd9-9cde9b7651aa",
        "colab": {
          "base_uri": "https://localhost:8080/",
          "height": 333
        }
      },
      "outputs": [
        {
          "output_type": "display_data",
          "data": {
            "text/plain": [
              "<Figure size 400x300 with 1 Axes>"
            ],
            "image/png": "[encoded data removed]"
          },
          "metadata": {}
        }
      ],
      "source": [
        "import torch\n",
        "import matplotlib.pyplot as plt\n",
        "import torch.nn.functional as F\n",
        "\n",
        "# Input range for visualization\n",
        "x = torch.linspace(-10, 10, 100)\n",
        "\n",
        "# Compute values for different activation functions\n",
        "tanh_y = torch.tanh(x)\n",
        "\n",
        "# Visualization\n",
        "plt.figure(figsize=(4, 3))\n",
        "\n",
        "# Tanh\n",
        "plt.plot(x.numpy(), tanh_y.numpy(), label='Tanh', color='red')\n",
        "\n",
        "# Graph styling\n",
        "plt.title('Activation Functions')\n",
        "plt.xlabel('Input')\n",
        "plt.ylabel('Output')\n",
        "plt.legend()\n",
        "plt.grid()\n",
        "plt.show()"
      ]
    },
    {
      "cell_type": "markdown",
      "id": "1296655d",
      "metadata": {
        "id": "1296655d"
      },
      "source": [
        "**Leaky ReLU**\n",
        "\n",
        "- Formula:\n",
        "\\begin{equation}\n",
        "  f(x) = \\begin{cases}\n",
        "  x & x > 0 \\\\\n",
        "  \\alpha x & x \\leq 0\n",
        "  \\end{cases}\n",
        "\\end{equation}\n",
        "- Characteristics:\n",
        "  - Similar to ReLU, but allows a small gradient for negative values (`α > 0`), reducing the risk of dead neurons.\n",
        "  - Often used as a default alternative to ReLU."
      ]
    },
    {
      "cell_type": "code",
      "execution_count": 8,
      "id": "6d46d56b",
      "metadata": {
        "id": "6d46d56b",
        "outputId": "00605643-0d9b-484d-eea5-aea117fec984",
        "colab": {
          "base_uri": "https://localhost:8080/",
          "height": 333
        }
      },
      "outputs": [
        {
          "output_type": "display_data",
          "data": {
            "text/plain": [
              "<Figure size 400x300 with 1 Axes>"
            ],
            "image/png": "[encoded data removed]"
          },
          "metadata": {}
        }
      ],
      "source": [
        "import torch\n",
        "import matplotlib.pyplot as plt\n",
        "import torch.nn.functional as F\n",
        "\n",
        "# Input range for visualization\n",
        "x = torch.linspace(-10, 10, 100)\n",
        "\n",
        "# Compute values for different activation functions\n",
        "leaky_relu_y = F.leaky_relu(x, negative_slope=0.1)\n",
        "\n",
        "# Visualization\n",
        "plt.figure(figsize=(4, 3))\n",
        "\n",
        "# Leaky ReLU\n",
        "plt.plot(x.numpy(), leaky_relu_y.numpy(), label='Leaky ReLU', color='purple')\n",
        "\n",
        "# Graph styling\n",
        "plt.title('Activation Functions')\n",
        "plt.xlabel('Input')\n",
        "plt.ylabel('Output')\n",
        "plt.legend()\n",
        "plt.grid()\n",
        "plt.show()"
      ]
    },
    {
      "cell_type": "markdown",
      "id": "784334af",
      "metadata": {
        "id": "784334af"
      },
      "source": [
        "### **Multilayer Perceptron (MLP) Model**\n",
        "The MLP is an extension of the Perceptron, adding hidden layers for increased capacity to model non-linear relationships."
      ]
    },
    {
      "cell_type": "code",
      "execution_count": 9,
      "id": "e065465b",
      "metadata": {
        "id": "e065465b"
      },
      "outputs": [],
      "source": [
        "# Define the Multilayer Perceptron (MLP) model\n",
        "class MLP(nn.Module):\n",
        "    def __init__(self):\n",
        "        super(MLP, self).__init__()\n",
        "        self.fc1 = nn.Linear(28 * 28, 128)  # Hidden layer 1\n",
        "        self.fc2 = nn.Linear(128, 64)       # Hidden layer 2\n",
        "        self.fc3 = nn.Linear(64, 10)        # Output layer\n",
        "\n",
        "    def forward(self, x):\n",
        "        x = x.view(x.size(0), -1)  # Flatten the input\n",
        "        x = torch.relu(self.fc1(x))\n",
        "        x = torch.relu(self.fc2(x))\n",
        "        return self.fc3(x)"
      ]
    },
    {
      "cell_type": "markdown",
      "id": "235cc8fb",
      "metadata": {
        "id": "235cc8fb"
      },
      "source": [
        "### **Fully Connected Neural Network**\n",
        "This model uses a modular approach with nn.Sequential, streamlining the implementation of fully connected layers and activation functions."
      ]
    },
    {
      "cell_type": "code",
      "execution_count": 10,
      "id": "2d7926c6",
      "metadata": {
        "id": "2d7926c6"
      },
      "outputs": [],
      "source": [
        "# Define a Basic Fully Connected Neural Network\n",
        "class FullyConnectedNN(nn.Module):\n",
        "    def __init__(self):\n",
        "        super(FullyConnectedNN, self).__init__()\n",
        "        self.fc = nn.Sequential(\n",
        "            nn.Flatten(),\n",
        "            nn.Linear(28 * 28, 128),\n",
        "            nn.ReLU(),\n",
        "            nn.Linear(128, 64),\n",
        "            nn.ReLU(),\n",
        "            nn.Linear(64, 10)\n",
        "        )\n",
        "\n",
        "    def forward(self, x):\n",
        "        return self.fc(x)"
      ]
    },
    {
      "cell_type": "markdown",
      "id": "10c0819a",
      "metadata": {
        "id": "10c0819a"
      },
      "source": [
        "### **Simple CNN Model**\n",
        "The Simple Convolutional Neural Network (CNN) leverages convolutional layers for feature extraction, making it more effective for image classification tasks."
      ]
    },
    {
      "cell_type": "code",
      "execution_count": 11,
      "id": "c6da3e63",
      "metadata": {
        "id": "c6da3e63"
      },
      "outputs": [],
      "source": [
        "# Define a simple CNN model\n",
        "class SimpleCNN(nn.Module):\n",
        "    def __init__(self):\n",
        "        super(SimpleCNN, self).__init__()\n",
        "        self.conv1 = nn.Conv2d(1, 32, kernel_size=3, padding=1)\n",
        "        self.conv2 = nn.Conv2d(32, 64, kernel_size=3, padding=1)\n",
        "        self.pool = nn.MaxPool2d(2, 2)\n",
        "        self.fc1 = nn.Linear(256 * 7 * 7, 128)\n",
        "        self.fc2 = nn.Linear(128, 10)\n",
        "        self.relu = nn.ReLU()\n",
        "\n",
        "    def forward(self, x):\n",
        "        x = self.relu(self.conv1(x))\n",
        "        x = self.pool(self.relu(self.conv2(x)))\n",
        "        x = x.view(-1, 256 * 7 * 7)\n",
        "        x = self.relu(self.fc1(x))\n",
        "        x = self.fc2(x)\n",
        "        return x"
      ]
    },
    {
      "cell_type": "markdown",
      "id": "a29ca50a",
      "metadata": {
        "id": "a29ca50a"
      },
      "source": [
        "## **Introduction of Loss Functions in Machine Learning**\n",
        "Loss functions are used to measure the error between the predicted outputs of a model and the actual target values. They play a critical role in training neural networks, guiding the optimization process to improve performance. This section introduces three common loss functions and provides visualizations for better understanding.\n",
        "\n",
        "---\n",
        "\n",
        "### **Mean Squared Error (MSE)**\n",
        "- Formula:\n",
        "\\begin{equation}\n",
        "  \\text{MSE} = \\frac{1}{n} \\sum_{i=1}^{n} (y_{\\text{pred}} - y_{\\text{true}})^2\n",
        "\\end{equation}\n",
        "- Characteristics:\n",
        "  - Penalizes larger errors more heavily due to squaring.\n",
        "  - Suitable for regression tasks.\n",
        "  - Sensitive to outliers.\n",
        "\n",
        "---\n",
        "\n",
        "### **Mean Absolute Error (MAE)**\n",
        "- Formula:\n",
        "\\begin{equation}\n",
        "  \\text{MAE} = \\frac{1}{n} \\sum_{i=1}^{n} |y_{\\text{pred}} - y_{\\text{true}}|\n",
        "\\end{equation}\n",
        "- Characteristics:\n",
        "  - Treats all errors equally by using absolute values.\n",
        "  - Robust to outliers compared to MSE.\n",
        "  - Converges more slowly in optimization compared to MSE.\n",
        "\n",
        "---\n",
        "\n",
        "### **Binary Cross-Entropy (BCE)**\n",
        "- Formula:\n",
        "\\begin{equation}\n",
        "  \\text{BCE} = -\\frac{1}{n} \\sum_{i=1}^{n} \\left[ y_{\\text{true}} \\log(y_{\\text{pred}}) + (1 - y_{\\text{true}}) \\log(1 - y_{\\text{pred}}) \\right]\n",
        "\\end{equation}\n",
        "- Characteristics:\n",
        "  - Used for binary classification tasks.\n",
        "  - Measures the difference between predicted probabilities and true binary labels.\n",
        "  - Sensitive to predicted values approaching 0 or 1 due to logarithmic terms.\n",
        "\n",
        "---\n",
        "<div style=\"background:#EEEEFF;color:black\">\n",
        "\n",
        "**Exercise 1.3.1**: Loss functions are essential for evaluating model performance. In this exercise, we will visualize three common loss functions: **Mean Squared Error (MSE)**, **Mean Absolute Error (MAE)**, and **Binary Cross-Entropy (BCE)**. By visualizing these functions, you'll gain a deeper understanding of their characteristics and how they behave for different input values. Follow these steps:\n",
        "\n",
        "1. Import Required Libraries\n",
        "    \n",
        "2. Define the Loss Functions\n",
        "    \n",
        "3. Generate Sample Data: Create a range of predicted values (y_pred) and true values (y_true). For simplicity, we'll use random values for y_true and vary y_pred between 0 and 1\n",
        "\n",
        "4. Calculate the Loss Functions: Now, we'll calculate the loss for each of the three functions (MSE, MAE, and BCE) by iterating over a range of predicted values and computing the corresponding loss.\n",
        "    \n",
        "5. Plot the Loss Functions\n",
        "</div>"
      ]
    },
    {
      "cell_type": "code",
      "execution_count": 12,
      "id": "5a2bbc5f",
      "metadata": {
        "id": "5a2bbc5f",
        "outputId": "4d726f97-d77d-48df-f940-94b75ef2633f",
        "colab": {
          "base_uri": "https://localhost:8080/",
          "height": 564
        }
      },
      "outputs": [
        {
          "output_type": "display_data",
          "data": {
            "text/plain": [
              "<Figure size 700x600 with 1 Axes>"
            ],
            "image/png": "[encoded data removed]"
          },
          "metadata": {}
        }
      ],
      "source": [
        "import matplotlib.pyplot as plt\n",
        "import numpy as np\n",
        "\n",
        "def mse(y_pred, y_true):\n",
        "\t\treturn np.mean((y_pred - y_true)**2)\n",
        "\n",
        "def mae(y_pred, y_true):\n",
        "\t\treturn np.mean(np.abs(y_pred - y_true))\n",
        "\n",
        "def bce(y_pred, y_true):\n",
        "\t\tsmall = 1e-15 # prevent log(0)\n",
        "\t\ty_pred = np.clip(y_pred, small , 1-small) # Clip values to avoid log(0) and log(1)\n",
        "\t\treturn -np.mean(y_true*np.log(y_pred)+(1-y_true)*np.log(1-y_pred))\n",
        "\n",
        "y_true = np.random.randint(0,2,100)\n",
        "y_pred = np.linspace(0,1,100)\n",
        "mse_loss = []\n",
        "mae_loss = []\n",
        "bce_loss = []\n",
        "for y_p in y_pred:\n",
        "  mse_loss.append(mse(y_p, y_true))\n",
        "  mae_loss.append(mae(y_p, y_true))\n",
        "  bce_loss.append(bce(y_p, y_true))\n",
        "\n",
        "plt.figure(figsize=(7, 6))\n",
        "plt.plot(y_pred, mse_loss, label='MSE')\n",
        "plt.plot(y_pred, mae_loss, label='MAE')\n",
        "plt.plot(y_pred, bce_loss, label='BCE')\n",
        "plt.xlabel('Predicted Value (y_pred)')\n",
        "plt.ylabel('Loss')\n",
        "plt.title('Loss Functions Visualization')\n",
        "plt.legend()\n",
        "plt.grid(True)\n",
        "plt.show()"
      ]
    },
    {
      "cell_type": "markdown",
      "id": "4b760ea4",
      "metadata": {
        "id": "4b760ea4"
      },
      "source": [
        "### **Categorical Cross-Entropy (CCE)**\n",
        "- Formula:\n",
        "\\begin{equation}\n",
        "  \\text{CCE} = - \\sum_{c=1}^{C} y_{\\text{true}, c} \\log(y_{\\text{pred}, c})\n",
        "\\end{equation}\n",
        "- Characteristics:\n",
        "  - Used for multi-class classification tasks.\n",
        "  - Penalizes incorrect class predictions more heavily.\n",
        "  - Works with one-hot encoded true labels and probability distributions from softmax.\n",
        "\n",
        "**Example:**\n",
        "- Predicted probabilities for three classes: \\([0.8, 0.1, 0.1]\\).\n",
        "- True label: Class 0, represented as \\([1, 0, 0]\\).\n",
        "\n",
        "For this prediction:\n",
        "\\begin{equation}\n",
        "\\text{CCE} = - (1 \\cdot \\log(0.8) + 0 \\cdot \\log(0.1) + 0 \\cdot \\log(0.1)) = - \\log(0.8)\n",
        "\\end{equation}\n",
        "\n",
        "---\n",
        "\n",
        "<div style=\"background:#EEEEFF;color:black\">\n",
        "\n",
        "**Exercise 1.3.2**: In this exercise, we will visualize the Categorical Cross-Entropy (CCE) function and observe how it behaves for different predicted probabilities. Follow these steps:\n",
        "    \n",
        "1. Understand the Categorical Cross-Entropy Formula: Review the formula for CCE, where you compare the true class label (one-hot encoded) with the predicted class probabilities. This gives you an understanding of how the function works for multi-class classification problems.\n",
        "\n",
        "2. Generate Predicted Probabilities: Generate a range of predicted probabilities for a multi-class classification problem. Use three possible classes and vary the predicted probabilities between 0 and 1.\n",
        "\n",
        "3. Calculate CCE Loss: For each predicted probability distribution, calculate the CCE loss using the true label (e.g., class 0, 1, or 2). Visualize how the loss changes as the predicted probability for the true class increases or decreases.\n",
        "\n",
        "4. Plot the Loss Function: Create a plot where the x-axis represents the predicted probability for the true class, and the y-axis represents the corresponding CCE loss. This will allow you to observe how the CCE increases as the predicted probabilities for the true class deviate from the actual label.\n",
        "\n",
        "5. Analyze the Graph: After completing the visualization, analyze the graph to understand how the loss behaves. Focus on how the CCE increases as the predicted probability for the true class decreases, especially when the predicted probability is close to zero.\n",
        "    \n",
        "P.S. The given predictions are: [[0.8, 0.1, 0.1],[0.2, 0.5, 0.3],[0.1, 0.2, 0.7]] and corresponding labels are  [[1, 0, 0],[0, 1, 0],[0, 0, 1]]\n",
        "    \n",
        "</div>"
      ]
    },
    {
      "cell_type": "code",
      "execution_count": 13,
      "id": "26be726b",
      "metadata": {
        "id": "26be726b",
        "outputId": "653fdbea-a746-4114-e1c8-8fa96aebafa7",
        "colab": {
          "base_uri": "https://localhost:8080/",
          "height": 489
        }
      },
      "outputs": [
        {
          "output_type": "stream",
          "name": "stdout",
          "text": [
            "CCE losses for given predictions: [0.2231435513142097, 0.6931471805599453, 0.35667494393873245]\n"
          ]
        },
        {
          "output_type": "display_data",
          "data": {
            "text/plain": [
              "<Figure size 640x480 with 1 Axes>"
            ],
            "image/png": "[encoded data removed]"
          },
          "metadata": {}
        }
      ],
      "source": [
        "def CE(pre,tar):\n",
        "  small = 1e-15\n",
        "  pre = np.clip(pre,small,1-small)\n",
        "  ce = -np.sum(tar*np.log(pre))\n",
        "  return ce\n",
        "\n",
        "\n",
        "pre = np.array([[0.8, 0.1, 0.1], [0.2, 0.5, 0.3], [0.1, 0.2, 0.7]])\n",
        "labels = np.array([[1, 0, 0], [0, 1, 0], [0, 0, 1]])\n",
        "\n",
        "label = [1,2,3]\n",
        "cce_loss = []\n",
        "for i in range(len(pre)):\n",
        "\tcce_loss.append(CE(pre[i],labels[i]))\n",
        "\n",
        "print(f\"CCE losses for given predictions: {cce_loss}\")\n",
        "\n",
        "# Plot CCE loss vs. predicted probability\n",
        "plt.bar(label, cce_loss)\n",
        "plt.xlabel(\"Class\")\n",
        "plt.ylabel(\"Categorical Cross-Entropy Loss\")\n",
        "plt.title(\"CCE Loss vs. Predicted Probability\")\n",
        "plt.xticks(label)\n",
        "plt.grid(axis='y', linestyle=\"--\", alpha=0.6)\n",
        "plt.show()\n",
        ""
      ]
    },
    {
      "cell_type": "markdown",
      "id": "479a3a99-7fc6-4828-9896-b3f5fba045af",
      "metadata": {
        "id": "479a3a99-7fc6-4828-9896-b3f5fba045af"
      },
      "source": [
        "**Conclusion**\n",
        "- **MSE** is suitable for regression tasks but sensitive to outliers.\n",
        "- **MAE** is robust to outliers but converges more slowly.\n",
        "- **BCE** is ideal for binary classification tasks, as it measures the error in predicted probabilities.\n",
        "- **Categorical Cross-Entropy** extends the idea to handle multi-class classification.\n",
        "\n",
        "\n",
        "Choosing the right loss function depends on the type of problem, the data's characteristics, and the desired behavior during optimization."
      ]
    },
    {
      "cell_type": "markdown",
      "id": "1d773f34-d7c6-48cd-acec-be1646b4cd6a",
      "metadata": {
        "id": "1d773f34-d7c6-48cd-acec-be1646b4cd6a"
      },
      "source": [
        "## **Introduction of Optimizers in Machine Learning**\n",
        "\n",
        "Optimizers are an essential component in training neural networks. They are used to adjust the weights of the model during the training process to minimize the loss function. PyTorch provides several built-in optimizers in the `torch.optim` module, including **Adam** and **SGD**.\n",
        "\n",
        "---\n",
        "\n",
        "### **SGD Optimizer in PyTorch**\n",
        "\n",
        "Stochastic Gradient Descent (SGD) is one of the foundational optimization algorithms in deep learning. It updates model parameters by taking steps in the negative direction of the gradient of the loss function. PyTorch provides an efficient implementation of SGD in the `torch.optim` module.\n",
        "\n",
        "---\n",
        "\n",
        "Below is an example of how to define and use the **SGD optimizer** in PyTorch:\n",
        "\n",
        "```python\n",
        "import torch.optim as optim\n",
        "learning_rate = 0.01\n",
        "momentum = 0.9\n",
        "optimizer = optim.SGD(model.parameters(), lr=learning_rate, momentum=momentum)\n",
        "```\n",
        "---\n",
        "### **Adam Optimizer**\n",
        "Adam (Adaptive Moment Estimation) is a popular optimization algorithm that combines the advantages of **momentum** and **RMSProp**. It adapts the learning rate for each parameter based on the first and second moments of the gradients.\n",
        "\n",
        "```python\n",
        "# Define the Adam optimizer\n",
        "learning_rate = 0.001\n",
        "optimizer = optim.Adam(model.parameters(), lr=learning_rate)\n",
        "```"
      ]
    },
    {
      "cell_type": "markdown",
      "id": "c725972d",
      "metadata": {
        "id": "c725972d"
      },
      "source": [
        "## **General Case: Design a Neural Network for MNIST**\n",
        "\n",
        "<div style=\"background:#EEEEFF;color:black\">\n",
        "\n",
        "**Exercise 1.5.1**: In this exercise, you will design and train a Convolutional Neural Network (CNN) to classify handwritten digits from the MNIST dataset. Follow these steps:\n",
        "1.Import Libraries\n",
        "    \n",
        "2.Load the MNIST Dataset\n",
        "    \n",
        "3.Define the Neural Network\n",
        "    \n",
        "4.Define Loss and Optimizer\n",
        "    \n",
        "5.Train the Model\n",
        "    \n",
        "6.Evaluate the Model\n",
        "    \n",
        "7.Visualize the Training Loss\n",
        "\n",
        "</div>"
      ]
    },
    {
      "cell_type": "code",
      "execution_count": 14,
      "id": "e7d76cf0",
      "metadata": {
        "id": "e7d76cf0",
        "outputId": "9ce5cb6d-ddeb-48a3-c9fe-485b8c7eab30",
        "colab": {
          "base_uri": "https://localhost:8080/",
          "height": 576
        }
      },
      "outputs": [
        {
          "output_type": "stream",
          "name": "stdout",
          "text": [
            "Using device: cuda\n",
            "Epoch 1, Loss: 0.1394\n",
            "Epoch 2, Loss: 0.0370\n",
            "Epoch 3, Loss: 0.0228\n",
            "Finished Training\n",
            "Accuracy of the network on the 10000 test images: 98.82%\n"
          ]
        },
        {
          "output_type": "display_data",
          "data": {
            "text/plain": [
              "<Figure size 640x480 with 1 Axes>"
            ],
            "image/png": "[encoded data removed]"
          },
          "metadata": {}
        }
      ],
      "source": [
        "transform = transforms.Compose([transforms.ToTensor(), transforms.Normalize((0.1307,), (0.3081,))])\n",
        "train_dataset = datasets.MNIST('data', train=True, download=True, transform=transform)\n",
        "test_dataset = datasets.MNIST('data', train=False, transform=transform)\n",
        "train_loader = DataLoader(train_dataset, batch_size=128, shuffle=True)\n",
        "test_loader = DataLoader(test_dataset, batch_size=1000, shuffle=False)\n",
        "\n",
        "device = torch.device(\"cuda\" if torch.cuda.is_available() else \"cpu\")\n",
        "print(f\"Using device: {device}\")\n",
        "\n",
        "# Define a simple CNN model\n",
        "class SimpleCNN(nn.Module):\n",
        "    def __init__(self):\n",
        "        super(SimpleCNN, self).__init__()\n",
        "        self.conv1 = nn.Conv2d(1, 32, kernel_size=3, padding=1)\n",
        "        self.conv2 = nn.Conv2d(32, 64, kernel_size=3, padding=1)\n",
        "        self.pool = nn.MaxPool2d(2, 2)\n",
        "        self.fc1 = nn.Linear(256 * 7 * 7, 128)\n",
        "        self.fc2 = nn.Linear(128, 10)\n",
        "        self.relu = nn.ReLU()\n",
        "\n",
        "    def forward(self, x):\n",
        "        x = self.relu(self.conv1(x))\n",
        "        x = self.pool(self.relu(self.conv2(x)))\n",
        "        x = x.view(-1, 256 * 7 * 7)\n",
        "        x = self.relu(self.fc1(x))\n",
        "        x = self.fc2(x)\n",
        "        return x\n",
        "\n",
        "# 3. Define the Neural Network (using SimpleCNN from the provided code)\n",
        "model = SimpleCNN()\n",
        "\n",
        "# 4. Define Loss and Optimizer\n",
        "criterion = nn.CrossEntropyLoss()\n",
        "optimizer = optim.Adam(model.parameters(), lr=0.001)\n",
        "\n",
        "# 5. Train the Model\n",
        "epochs = 3\n",
        "train_losses = []\n",
        "for epoch in range(epochs):\n",
        "    running_loss = 0.0\n",
        "    for i, data in enumerate(train_loader, 0):\n",
        "        inputs, labels = data\n",
        "        optimizer.zero_grad()\n",
        "        outputs = model(inputs)\n",
        "        loss = criterion(outputs, labels)\n",
        "        loss.backward()\n",
        "        optimizer.step()\n",
        "        running_loss += loss.item()\n",
        "\n",
        "    epoch_loss = running_loss / len(train_loader)\n",
        "    train_losses.append(epoch_loss)\n",
        "    print(f'Epoch {epoch+1}, Loss: {epoch_loss:.4f}')\n",
        "\n",
        "print('Finished Training')\n",
        "\n",
        "# 6. Evaluate the Model\n",
        "correct = 0\n",
        "total = 0\n",
        "with torch.no_grad():\n",
        "    for data in test_loader:\n",
        "        images, labels = data\n",
        "        outputs = model(images)\n",
        "        _, predicted = torch.max(outputs.data, 1)\n",
        "        total += labels.size(0)\n",
        "        correct += (predicted == labels).sum().item()\n",
        "\n",
        "accuracy = 100 * correct / total\n",
        "print(f'Accuracy of the network on the 10000 test images: {accuracy:.2f}%')\n",
        "\n",
        "\n",
        "# 7. Visualize the Training Loss\n",
        "plt.plot(train_losses)\n",
        "plt.xlabel('Epoch')\n",
        "plt.ylabel('Training Loss')\n",
        "plt.title('Training Loss Curve')\n",
        "plt.grid(True)\n",
        "plt.show()\n"
      ]
    },
    {
      "cell_type": "markdown",
      "id": "e18905b5-e8e0-441b-82b0-e66556d16e61",
      "metadata": {
        "id": "e18905b5-e8e0-441b-82b0-e66556d16e61"
      },
      "source": [
        "<div style=\"background:#EEEEFF;color:black\">\n",
        "\n",
        "**Exercise 1.5.2**:\n",
        "    \n",
        "**For More Challenge:**\n",
        "\n",
        "1.Try modifying the architecture (e.g., add more layers or units).\n",
        "    \n",
        "2.Experiment with different learning rates or optimizers.\n",
        "    \n",
        "3.Visualize predictions made by the model on a few test images."
      ]
    },
    {
      "cell_type": "code",
      "execution_count": 17,
      "id": "34660448-6740-4f70-b48d-16b1721fdeb7",
      "metadata": {
        "id": "34660448-6740-4f70-b48d-16b1721fdeb7",
        "outputId": "ac265a25-ef62-480d-e456-1625b8d46b46",
        "colab": {
          "base_uri": "https://localhost:8080/",
          "height": 1000
        }
      },
      "outputs": [
        {
          "output_type": "stream",
          "name": "stdout",
          "text": [
            "Using device: cuda\n",
            "ImprovedCNN(\n",
            "  (conv1): Conv2d(1, 32, kernel_size=(3, 3), stride=(1, 1), padding=(1, 1))\n",
            "  (conv2): Conv2d(32, 64, kernel_size=(3, 3), stride=(1, 1), padding=(1, 1))\n",
            "  (conv3): Conv2d(64, 128, kernel_size=(3, 3), stride=(1, 1), padding=(1, 1))\n",
            "  (pool): MaxPool2d(kernel_size=2, stride=2, padding=0, dilation=1, ceil_mode=False)\n",
            "  (dropout): Dropout(p=0.25, inplace=False)\n",
            "  (bn1): BatchNorm2d(32, eps=1e-05, momentum=0.1, affine=True, track_running_stats=True)\n",
            "  (bn2): BatchNorm2d(64, eps=1e-05, momentum=0.1, affine=True, track_running_stats=True)\n",
            "  (relu): ReLU()\n",
            "  (fc1): Linear(in_features=6272, out_features=256, bias=True)\n",
            "  (fc2): Linear(in_features=256, out_features=10, bias=True)\n",
            ")\n",
            "\n",
            "Training Model...\n",
            "Epoch 1, Loss: 0.1091\n",
            "Epoch 2, Loss: 0.0376\n",
            "Epoch 3, Loss: 0.0276\n",
            "Finished Training\n",
            "Accuracy of the network on the 10000 test images: 99.10%\n"
          ]
        },
        {
          "output_type": "display_data",
          "data": {
            "text/plain": [
              "<Figure size 800x800 with 9 Axes>"
            ],
            "image/png": "[encoded data removed]"
          },
          "metadata": {}
        }
      ],
      "source": [
        "import torch\n",
        "import torch.nn as nn\n",
        "import torch.optim as optim\n",
        "import numpy as np\n",
        "import matplotlib.pyplot as plt\n",
        "from torchvision import datasets, transforms\n",
        "from torch.utils.data import DataLoader\n",
        "\n",
        "# Device Configuration\n",
        "device = torch.device(\"cuda\" if torch.cuda.is_available() else \"cpu\")\n",
        "print(f\"Using device: {device}\")\n",
        "\n",
        "# Define Data Transform & Loaders\n",
        "transform = transforms.Compose([\n",
        "    transforms.ToTensor(),\n",
        "    transforms.Normalize((0.1307,), (0.3081,))\n",
        "])\n",
        "\n",
        "train_dataset = datasets.MNIST(root='data', train=True, download=True, transform=transform)\n",
        "test_dataset = datasets.MNIST(root='data', train=False, transform=transform)\n",
        "\n",
        "train_loader = DataLoader(train_dataset, batch_size=128, shuffle=True)\n",
        "test_loader = DataLoader(test_dataset, batch_size=1000, shuffle=False)\n",
        "\n",
        "# Define Improved CNN Model\n",
        "class ImprovedCNN(nn.Module):\n",
        "    def __init__(self):\n",
        "        super(ImprovedCNN, self).__init__()\n",
        "        self.conv1 = nn.Conv2d(1, 32, kernel_size=3, padding=1)\n",
        "        self.conv2 = nn.Conv2d(32, 64, kernel_size=3, padding=1)\n",
        "        self.conv3 = nn.Conv2d(64, 128, kernel_size=3, padding=1)\n",
        "        self.pool = nn.MaxPool2d(2, 2)\n",
        "        self.dropout = nn.Dropout(0.25)\n",
        "        self.bn1 = nn.BatchNorm2d(32)\n",
        "        self.bn2 = nn.BatchNorm2d(64)\n",
        "        self.relu = nn.ReLU()\n",
        "\n",
        "        # Fully connected layers (adjust dynamically)\n",
        "        self.fc1 = nn.Linear(128 * 7 * 7, 256)  # Adjusted from 3*3 to 7*7\n",
        "        self.fc2 = nn.Linear(256, 10)\n",
        "\n",
        "    def forward(self, x):\n",
        "        x = self.relu(self.bn1(self.conv1(x)))  # First Conv Layer\n",
        "        x = self.pool(self.relu(self.bn2(self.conv2(x))))  # Second Conv + Pooling\n",
        "        x = self.pool(self.relu(self.conv3(x)))  # Third Conv + Pooling\n",
        "        x = self.dropout(x)  # Apply Dropout\n",
        "\n",
        "        # Use dynamic reshaping instead of hardcoded 3x3\n",
        "        x = x.view(x.size(0), -1)  # Dynamically flatten feature maps\n",
        "\n",
        "        x = self.relu(self.fc1(x))\n",
        "        x = self.fc2(x)\n",
        "        return x\n",
        "\n",
        "# Initialize model and move to device\n",
        "model = ImprovedCNN().to(device)\n",
        "\n",
        "# Print model summary\n",
        "print(model)\n",
        "\n",
        "# Loss function and optimizer\n",
        "criterion = nn.CrossEntropyLoss()\n",
        "optimizer = optim.Adam(model.parameters(), lr=0.001)\n",
        "\n",
        "# Training Loop\n",
        "epochs = 3\n",
        "train_losses = []\n",
        "\n",
        "print(\"\\nTraining Model...\")\n",
        "for epoch in range(epochs):\n",
        "    model.train()\n",
        "    running_loss = 0.0\n",
        "\n",
        "    for i, (inputs, labels) in enumerate(train_loader, 0):\n",
        "        inputs, labels = inputs.to(device), labels.to(device)\n",
        "\n",
        "        optimizer.zero_grad()\n",
        "        outputs = model(inputs)\n",
        "        loss = criterion(outputs, labels)\n",
        "        loss.backward()\n",
        "        optimizer.step()\n",
        "\n",
        "        running_loss += loss.item()\n",
        "\n",
        "    epoch_loss = running_loss / len(train_loader)\n",
        "    train_losses.append(epoch_loss)\n",
        "    print(f'Epoch {epoch+1}, Loss: {epoch_loss:.4f}')\n",
        "\n",
        "print('Finished Training')\n",
        "\n",
        "# Evaluate Model\n",
        "model.eval()\n",
        "correct = 0\n",
        "total = 0\n",
        "\n",
        "with torch.no_grad():\n",
        "    for images, labels in test_loader:\n",
        "        images, labels = images.to(device), labels.to(device)\n",
        "        outputs = model(images)\n",
        "        _, predicted = torch.max(outputs, 1)\n",
        "        total += labels.size(0)\n",
        "        correct += (predicted == labels).sum().item()\n",
        "\n",
        "accuracy = 100 * correct / total\n",
        "print(f'Accuracy of the network on the 10000 test images: {accuracy:.2f}%')\n",
        "\n",
        "# Visualize Predictions\n",
        "dataiter = iter(test_loader)\n",
        "images, labels = next(dataiter)\n",
        "images, labels = images.to(device), labels.to(device)\n",
        "\n",
        "model.eval()\n",
        "with torch.no_grad():\n",
        "    outputs = model(images)\n",
        "    _, predicted = torch.max(outputs, 1)\n",
        "\n",
        "# Move tensors back to CPU for visualization\n",
        "images, labels, predicted = images.cpu(), labels.cpu(), predicted.cpu()\n",
        "\n",
        "# Show some images with predicted vs actual labels\n",
        "fig, axes = plt.subplots(3, 3, figsize=(8, 8))\n",
        "axes = axes.flatten()\n",
        "for i in range(9):\n",
        "    img = images[i].numpy().squeeze()\n",
        "    axes[i].imshow(img, cmap=\"gray\")\n",
        "    axes[i].set_title(f'Pred: {predicted[i].item()} | Act: {labels[i].item()}')\n",
        "    axes[i].axis('off')\n",
        "\n",
        "plt.tight_layout()\n",
        "plt.show()\n"
      ]
    },
    {
      "cell_type": "code",
      "execution_count": null,
      "id": "442f96bd-863a-49a1-8695-d740b515e110",
      "metadata": {
        "id": "442f96bd-863a-49a1-8695-d740b515e110"
      },
      "outputs": [],
      "source": []
    }
  ],
  "metadata": {
    "kernelspec": {
      "display_name": "Python 3",
      "name": "python3"
    },
    "language_info": {
      "codemirror_mode": {
        "name": "ipython",
        "version": 3
      },
      "file_extension": ".py",
      "mimetype": "text/x-python",
      "name": "python",
      "nbconvert_exporter": "python",
      "pygments_lexer": "ipython3",
      "version": "3.7.12"
    },
    "colab": {
      "provenance": [],
      "gpuType": "T4"
    },
    "accelerator": "GPU"
  },
  "nbformat": 4,
  "nbformat_minor": 5
}