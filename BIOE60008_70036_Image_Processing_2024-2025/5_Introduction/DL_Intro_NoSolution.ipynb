{
  "cells": [
    {
      "cell_type": "markdown",
      "id": "e2ee7d10",
      "metadata": {
        "id": "e2ee7d10"
      },
      "source": [
        "<div align='center'><div align='center'>\n",
        "    \n",
        "# **Image Processing**\n",
        "\n",
        "</div>"
      ]
    },
    {
      "cell_type": "markdown",
      "id": "fc1c41ee",
      "metadata": {
        "id": "fc1c41ee"
      },
      "source": [
        "## **Introduction to Loading Dataset**\n",
        "\n",
        "In this section, we will focus on the **Loading Datasets**, specifically using the widely recognized MNIST dataset. The process of loading the dataset involves several key steps, including:\n",
        "\n",
        "1. **Import Libraries**: Utilizing PyTorch's `torchvision` library to efficiently load and handle the data.\n",
        "2. **Data Preprocessing**: Applying transformations such as converting images to tensors and normalizing pixel values.\n",
        "3. **Splitting the Data**: Separating the dataset into **training** and **testing** sets to ensure proper evaluation.\n",
        "\n",
        "By the end of this section, you will understand how to prepare the MNIST dataset for training and testing in a machine learning model.\n",
        "\n",
        "**What is the MNIST Dataset?**\n",
        "The MNIST dataset (Modified National Institute of Standards and Technology database) is a widely used benchmark dataset for image processing and machine learning. It consists of 70,000 grayscale images of handwritten digits (0-9), with:\n",
        "- **60,000 images for training**\n",
        "- **10,000 images for testing**\n",
        "\n",
        "Each image is **28x28 pixels** in size, and the goal is to classify the digit in the image. This dataset is often used for evaluating classification algorithms in computer vision and deep learning."
      ]
    },
    {
      "cell_type": "markdown",
      "id": "05054cdc",
      "metadata": {
        "id": "05054cdc"
      },
      "source": [
        "### **Import Libraries**:"
      ]
    },
    {
      "cell_type": "code",
      "execution_count": 1,
      "id": "335b1f50",
      "metadata": {
        "id": "335b1f50"
      },
      "outputs": [],
      "source": [
        "from torchvision import datasets, transforms\n",
        "from torch.utils.data import DataLoader"
      ]
    },
    {
      "cell_type": "markdown",
      "id": "762401c0",
      "metadata": {
        "id": "762401c0"
      },
      "source": [
        "### **Data Preprocessing**:\n",
        "**ToTensor():** Converts images into PyTorch tensors and normalizes pixel values to the range [0, 1].\n",
        "\n",
        "**Normalize((0.5,), (0.5,)):** Further normalizes the data to have a mean of 0 and a standard deviation of 1, scaling pixel values to [-1, 1]"
      ]
    },
    {
      "cell_type": "code",
      "execution_count": 2,
      "id": "e150405a",
      "metadata": {
        "id": "e150405a"
      },
      "outputs": [],
      "source": [
        "transform = transforms.Compose([\n",
        "    transforms.ToTensor(),\n",
        "    transforms.Normalize((0.5,), (0.5,))\n",
        "])"
      ]
    },
    {
      "cell_type": "markdown",
      "id": "62a36892",
      "metadata": {
        "id": "62a36892"
      },
      "source": [
        "### **Load Training Dataset**:\n",
        "The training set is used to teach the model by adjusting weights based on prediction errors."
      ]
    },
    {
      "cell_type": "code",
      "execution_count": 4,
      "id": "bfa11f6d",
      "metadata": {
        "id": "bfa11f6d",
        "outputId": "a86877cb-f77e-49b9-9745-ee3095a01ea2",
        "colab": {
          "base_uri": "https://localhost:8080/"
        }
      },
      "outputs": [
        {
          "output_type": "stream",
          "name": "stdout",
          "text": [
            "Downloading http://yann.lecun.com/exdb/mnist/train-images-idx3-ubyte.gz\n",
            "Failed to download (trying next):\n",
            "HTTP Error 404: Not Found\n",
            "\n",
            "Downloading https://ossci-datasets.s3.amazonaws.com/mnist/train-images-idx3-ubyte.gz\n",
            "Downloading https://ossci-datasets.s3.amazonaws.com/mnist/train-images-idx3-ubyte.gz to ./data/MNIST/raw/train-images-idx3-ubyte.gz\n"
          ]
        },
        {
          "output_type": "stream",
          "name": "stderr",
          "text": [
            "100%|██████████| 9.91M/9.91M [00:00<00:00, 127MB/s]\n"
          ]
        },
        {
          "output_type": "stream",
          "name": "stdout",
          "text": [
            "Extracting ./data/MNIST/raw/train-images-idx3-ubyte.gz to ./data/MNIST/raw\n",
            "\n",
            "Downloading http://yann.lecun.com/exdb/mnist/train-labels-idx1-ubyte.gz\n",
            "Failed to download (trying next):\n",
            "HTTP Error 404: Not Found\n",
            "\n",
            "Downloading https://ossci-datasets.s3.amazonaws.com/mnist/train-labels-idx1-ubyte.gz\n",
            "Downloading https://ossci-datasets.s3.amazonaws.com/mnist/train-labels-idx1-ubyte.gz to ./data/MNIST/raw/train-labels-idx1-ubyte.gz\n"
          ]
        },
        {
          "output_type": "stream",
          "name": "stderr",
          "text": [
            "100%|██████████| 28.9k/28.9k [00:00<00:00, 22.3MB/s]\n"
          ]
        },
        {
          "output_type": "stream",
          "name": "stdout",
          "text": [
            "Extracting ./data/MNIST/raw/train-labels-idx1-ubyte.gz to ./data/MNIST/raw\n",
            "\n",
            "Downloading http://yann.lecun.com/exdb/mnist/t10k-images-idx3-ubyte.gz\n",
            "Failed to download (trying next):\n",
            "HTTP Error 404: Not Found\n",
            "\n",
            "Downloading https://ossci-datasets.s3.amazonaws.com/mnist/t10k-images-idx3-ubyte.gz\n",
            "Downloading https://ossci-datasets.s3.amazonaws.com/mnist/t10k-images-idx3-ubyte.gz to ./data/MNIST/raw/t10k-images-idx3-ubyte.gz\n"
          ]
        },
        {
          "output_type": "stream",
          "name": "stderr",
          "text": [
            "100%|██████████| 1.65M/1.65M [00:00<00:00, 40.2MB/s]"
          ]
        },
        {
          "output_type": "stream",
          "name": "stdout",
          "text": [
            "Extracting ./data/MNIST/raw/t10k-images-idx3-ubyte.gz to ./data/MNIST/raw\n"
          ]
        },
        {
          "output_type": "stream",
          "name": "stderr",
          "text": [
            "\n"
          ]
        },
        {
          "output_type": "stream",
          "name": "stdout",
          "text": [
            "\n",
            "Downloading http://yann.lecun.com/exdb/mnist/t10k-labels-idx1-ubyte.gz\n",
            "Failed to download (trying next):\n",
            "HTTP Error 404: Not Found\n",
            "\n",
            "Downloading https://ossci-datasets.s3.amazonaws.com/mnist/t10k-labels-idx1-ubyte.gz\n",
            "Downloading https://ossci-datasets.s3.amazonaws.com/mnist/t10k-labels-idx1-ubyte.gz to ./data/MNIST/raw/t10k-labels-idx1-ubyte.gz\n"
          ]
        },
        {
          "output_type": "stream",
          "name": "stderr",
          "text": [
            "100%|██████████| 4.54k/4.54k [00:00<00:00, 6.66MB/s]\n"
          ]
        },
        {
          "output_type": "stream",
          "name": "stdout",
          "text": [
            "Extracting ./data/MNIST/raw/t10k-labels-idx1-ubyte.gz to ./data/MNIST/raw\n",
            "\n"
          ]
        }
      ],
      "source": [
        "train_dataset = datasets.MNIST(root='./data', train=True, transform=transform, download=True)"
      ]
    },
    {
      "cell_type": "markdown",
      "id": "f03d1fb7",
      "metadata": {
        "id": "f03d1fb7"
      },
      "source": [
        "### **Load Testing Dataset**:\n",
        "The testing set is used to evaluate how well the model generalizes to unseen data, providing an unbiased performance metric."
      ]
    },
    {
      "cell_type": "code",
      "execution_count": 5,
      "id": "afd60357",
      "metadata": {
        "id": "afd60357"
      },
      "outputs": [],
      "source": [
        "test_dataset = datasets.MNIST(root='./data', train=False, transform=transform, download=False)"
      ]
    },
    {
      "cell_type": "markdown",
      "id": "f500727b",
      "metadata": {
        "id": "f500727b"
      },
      "source": [
        "### **Visualize a few samples from the dataset**:\n",
        "`matplotlib.pyplot` is a core module in the `matplotlib` library, a popular Python library used for creating static, interactive, and animated visualizations. It provides a MATLAB-like interface for plotting, making it simple to generate a wide range of visualizations, from basic plots to complex graphics.\n",
        "\n",
        "The module is typically imported using the alias `plt`:\n",
        "```python\n",
        "import matplotlib.pyplot as plt\n",
        "\n",
        "<div style=\"background:#EEEEFF;color:black\">\n",
        "    \n",
        "**Exercise 1.1.5**\n",
        "Please attempt to visualize a few samples from the MNIST dataset. Follow these steps:\n",
        "\n",
        "1.Use the train_dataset defined earlier.\n",
        "\n",
        "2.Access a few data samples (e.g., the first 5 images and their corresponding labels).\n",
        "\n",
        "3.Plot these images using matplotlib.pyplot.imshow with a grayscale colormap.\n",
        "\n",
        "4.Display their labels alongside the images.\n",
        "\n",
        "</div>"
      ]
    },
    {
      "cell_type": "code",
      "execution_count": 10,
      "id": "6b4e06c8",
      "metadata": {
        "id": "6b4e06c8",
        "outputId": "f09158f5-715c-4cff-a445-84a012e677f7",
        "colab": {
          "base_uri": "https://localhost:8080/",
          "height": 772
        }
      },
      "outputs": [
        {
          "output_type": "display_data",
          "data": {
            "text/plain": [
              "<Figure size 640x480 with 1 Axes>"
            ],
            "image/png": "[encoded data removed]"
          },
          "metadata": {}
        },
        {
          "output_type": "display_data",
          "data": {
            "text/plain": [
              "<Figure size 640x480 with 1 Axes>"
            ],
            "image/png": "[encoded data removed]"
          },
          "metadata": {}
        },
        {
          "output_type": "display_data",
          "data": {
            "text/plain": [
              "<Figure size 640x480 with 1 Axes>"
            ],
            "image/png": "[encoded data removed]"
          },
          "metadata": {}
        },
        {
          "output_type": "display_data",
          "data": {
            "text/plain": [
              "<Figure size 640x480 with 1 Axes>"
            ],
            "image/png": "[encoded data removed]"
          },
          "metadata": {}
        },
        {
          "output_type": "display_data",
          "data": {
            "text/plain": [
              "<Figure size 640x480 with 1 Axes>"
            ],
            "image/png": "[encoded data removed]"
          },
          "metadata": {}
        }
      ],
      "source": [
        "import matplotlib.pyplot as plt\n",
        "\n",
        "for i in range(5):\n",
        "  plt.subplot(1,5,i+1)\n",
        "\n",
        "  image, label = train_dataset[i]\n",
        "\n",
        "  # Convert the image tensor to a NumPy array and remove the channel dimension\n",
        "  image_np = image.squeeze().numpy()\n",
        "\n",
        "  plt.imshow(image_np, cmap='gray')\n",
        "  plt.title(f\"Label: {label}\")\n",
        "  plt.show()\n"
      ]
    },
    {
      "cell_type": "markdown",
      "id": "a55f3664",
      "metadata": {
        "id": "a55f3664"
      },
      "source": [
        "## **Introduction of Different Machine Learning Models**\n",
        "\n",
        "This code demonstrates the implementation of four types of neural network architectures for image classification tasks. These models vary in complexity and are suitable for different purposes."
      ]
    },
    {
      "cell_type": "markdown",
      "id": "ab78b73b",
      "metadata": {
        "id": "ab78b73b"
      },
      "source": [
        "### Perceptron Model\n",
        "The **Perceptron** is the simplest neural network architecture, consisting of a single fully connected layer. It is used for basic linear classification tasks."
      ]
    },
    {
      "cell_type": "code",
      "execution_count": 11,
      "id": "6957b070",
      "metadata": {
        "id": "6957b070",
        "outputId": "f0a4f931-f7a5-4499-df28-7aacb97ca3f7",
        "colab": {
          "base_uri": "https://localhost:8080/"
        }
      },
      "outputs": [
        {
          "output_type": "stream",
          "name": "stdout",
          "text": [
            "Perceptron(\n",
            "  (fc): Linear(in_features=784, out_features=10, bias=True)\n",
            ")\n"
          ]
        }
      ],
      "source": [
        "import torch\n",
        "import torch.nn as nn\n",
        "import torch.optim as optim\n",
        "from torchvision import datasets, transforms\n",
        "from torch.utils.data import DataLoader\n",
        "\n",
        "# Define the Perceptron model\n",
        "class Perceptron(nn.Module):\n",
        "    def __init__(self):\n",
        "        super(Perceptron, self).__init__()\n",
        "        self.fc = nn.Linear(28 * 28, 10)  # Input size: 28x28, Output size: 10 classes\n",
        "\n",
        "    def forward(self, x):\n",
        "        x = x.view(x.size(0), -1)  # Flatten the input\n",
        "        return self.fc(x)\n",
        "\n",
        "model = Perceptron()\n",
        "print(model)"
      ]
    },
    {
      "cell_type": "markdown",
      "id": "9d6204b8-1d23-4920-9307-9ffe8895ef0a",
      "metadata": {
        "id": "9d6204b8-1d23-4920-9307-9ffe8895ef0a"
      },
      "source": [
        "The Perceptron can handle basic linear classification tasks, where the data is linearly separable.\n",
        "\n",
        "However, it still has challenges in non-linearity. The role of the activation function is crucial because. Without it, the model would essentially be performing linear regression, limiting its ability to solve complex problems. For instance, the absence of a non-linear activation function prevents the network from capturing non-linear relationships in the data. Activation functions, such as ReLU (Rectified Linear Unit), sigmoid, or tanh, enable the Perceptron to model more intricate decision boundaries, making it a fundamental building block for more advanced architectures."
      ]
    },
    {
      "cell_type": "markdown",
      "id": "7ee5455b",
      "metadata": {
        "id": "7ee5455b"
      },
      "source": [
        "### Introduction of Activation Functions in Neural Networks\n",
        "\n",
        "Activation functions are a critical component of neural networks, introducing non-linearity that allows the network to model complex relationships. This section explores popular activation functions, their properties, and their visualizations.\n",
        "\n",
        "---\n",
        "**ReLU (Rectified Linear Unit)**\n",
        "- Formula:\n",
        "\\begin{equation}\n",
        "  f(x) = \\max(0, x)\n",
        "\\end{equation}\n",
        "- Characteristics:\n",
        "  - Simple and computationally efficient.\n",
        "  - Introduces sparsity, as negative values are mapped to 0.\n",
        "  - Commonly used in deep learning architectures.\n",
        "\n",
        "---\n",
        "<div style=\"background:#EEEEFF;color:black\">\n",
        "\n",
        "**Exercise 1.2.1**: In this exercise, you will Visualize the ReLU. Follow these steps:\n",
        "1. Import Required Libraries\n",
        "   - Import necessary libraries like `numpy` and `matplotlib` to perform calculations and create plots.\n",
        "\n",
        "   ```python\n",
        "   import numpy as np\n",
        "   import matplotlib.pyplot as plt\n",
        "   ```\n",
        "\n",
        "2. Define the ReLU Function: Write a simple Python function to compute the output of the ReLU activation\n",
        "    \n",
        "    ```python\n",
        "   def relu(x):\n",
        "       return np.maximum(0, x)\n",
        "    ```\n",
        "    \n",
        "3. Visualize the ReLU Function: Plot the input vs. output relationship using ```matplotlib```\n",
        "\n",
        "</div>"
      ]
    },
    {
      "cell_type": "code",
      "execution_count": 15,
      "id": "c6fb4718",
      "metadata": {
        "id": "c6fb4718",
        "outputId": "b41cffa2-733a-4736-fbc5-63bf3bad9692",
        "colab": {
          "base_uri": "https://localhost:8080/",
          "height": 472
        }
      },
      "outputs": [
        {
          "output_type": "display_data",
          "data": {
            "text/plain": [
              "<Figure size 640x480 with 1 Axes>"
            ],
            "image/png": "[encoded data removed]"
          },
          "metadata": {}
        }
      ],
      "source": [
        "import numpy as np\n",
        "import matplotlib.pyplot as plt\n",
        "\n",
        "def relu(x):\n",
        "    return np.maximum(0, x)\n",
        "\n",
        "x = np.linspace(-5, 5, 100)\n",
        "y = relu(x)\n",
        "\n",
        "plt.plot(x, y)\n",
        "plt.xlabel(\"Input (x)\")\n",
        "plt.ylabel(\"Output (ReLU(x))\")\n",
        "plt.title(\"ReLU Activation Function\")\n",
        "plt.grid(True)\n",
        "plt.show()\n"
      ]
    },
    {
      "cell_type": "markdown",
      "id": "9f745251",
      "metadata": {
        "id": "9f745251"
      },
      "source": [
        "**Sigmoid**\n",
        "- Formula:\n",
        "\\begin{equation}\n",
        "  f(x) = \\frac{1}{1 + e^{-x}}\n",
        "\\end{equation}\n",
        "- Characteristics:\n",
        "  - Maps input values to the range (0, 1).\n",
        "  - Suitable for probabilities.\n",
        "  - Suffering from vanishing gradient issues for large positive/negative inputs.\n",
        "\n",
        "---"
      ]
    },
    {
      "cell_type": "code",
      "execution_count": 16,
      "id": "5fbf083a",
      "metadata": {
        "id": "5fbf083a",
        "outputId": "1a1caac4-8099-4dfa-ed59-153c147cd7bf",
        "colab": {
          "base_uri": "https://localhost:8080/",
          "height": 333
        }
      },
      "outputs": [
        {
          "output_type": "display_data",
          "data": {
            "text/plain": [
              "<Figure size 400x300 with 1 Axes>"
            ],
            "image/png": "[encoded data removed]"
          },
          "metadata": {}
        }
      ],
      "source": [
        "import torch\n",
        "import matplotlib.pyplot as plt\n",
        "import torch.nn.functional as F\n",
        "\n",
        "# Input range for visualization\n",
        "x = torch.linspace(-10, 10, 100)\n",
        "\n",
        "# Compute values for different activation functions\n",
        "sigmoid_y = torch.sigmoid(x)\n",
        "\n",
        "# Visualization\n",
        "plt.figure(figsize=(4, 3))\n",
        "# Sigmoid\n",
        "plt.plot(x.numpy(), sigmoid_y.numpy(), label='Sigmoid', color='green')\n",
        "\n",
        "# Graph styling\n",
        "plt.title('Activation Functions')\n",
        "plt.xlabel('Input')\n",
        "plt.ylabel('Output')\n",
        "plt.legend()\n",
        "plt.grid()\n",
        "plt.show()"
      ]
    },
    {
      "cell_type": "markdown",
      "id": "c3259d22",
      "metadata": {
        "id": "c3259d22"
      },
      "source": [
        "**Tanh (Hyperbolic Tangent)**\n",
        "\n",
        "- Formula:\n",
        "\\begin{equation}\n",
        "  f(x) = \\frac{e^x - e^{-x}}{e^x + e^{-x}}\n",
        "\\end{equation}\n",
        "- Characteristics:\n",
        "  - Maps input values to the range (-1, 1).\n",
        "  - Zero-centered, which helps optimization.\n",
        "  - Like Sigmoid, suffers from vanishing gradients for large inputs.\n",
        "\n",
        "---"
      ]
    },
    {
      "cell_type": "code",
      "execution_count": 17,
      "id": "4cea3d4e",
      "metadata": {
        "id": "4cea3d4e",
        "outputId": "ee32f671-49ca-42ad-9796-1e0003e74420",
        "colab": {
          "base_uri": "https://localhost:8080/",
          "height": 333
        }
      },
      "outputs": [
        {
          "output_type": "display_data",
          "data": {
            "text/plain": [
              "<Figure size 400x300 with 1 Axes>"
            ],
            "image/png": "[encoded data removed]"
          },
          "metadata": {}
        }
      ],
      "source": [
        "import torch\n",
        "import matplotlib.pyplot as plt\n",
        "import torch.nn.functional as F\n",
        "\n",
        "# Input range for visualization\n",
        "x = torch.linspace(-10, 10, 100)\n",
        "\n",
        "# Compute values for different activation functions\n",
        "tanh_y = torch.tanh(x)\n",
        "\n",
        "# Visualization\n",
        "plt.figure(figsize=(4, 3))\n",
        "\n",
        "# Tanh\n",
        "plt.plot(x.numpy(), tanh_y.numpy(), label='Tanh', color='red')\n",
        "\n",
        "# Graph styling\n",
        "plt.title('Activation Functions')\n",
        "plt.xlabel('Input')\n",
        "plt.ylabel('Output')\n",
        "plt.legend()\n",
        "plt.grid()\n",
        "plt.show()"
      ]
    },
    {
      "cell_type": "markdown",
      "id": "1296655d",
      "metadata": {
        "id": "1296655d"
      },
      "source": [
        "**Leaky ReLU**\n",
        "\n",
        "- Formula:\n",
        "\\begin{equation}\n",
        "  f(x) = \\begin{cases}\n",
        "  x & x > 0 \\\\\n",
        "  \\alpha x & x \\leq 0\n",
        "  \\end{cases}\n",
        "\\end{equation}\n",
        "- Characteristics:\n",
        "  - Similar to ReLU, but allows a small gradient for negative values (`α > 0`), reducing the risk of dead neurons.\n",
        "  - Often used as a default alternative to ReLU."
      ]
    },
    {
      "cell_type": "code",
      "execution_count": 18,
      "id": "6d46d56b",
      "metadata": {
        "id": "6d46d56b",
        "outputId": "d12e7ad4-2d9c-450b-80ef-1bcf73dfa4dd",
        "colab": {
          "base_uri": "https://localhost:8080/",
          "height": 333
        }
      },
      "outputs": [
        {
          "output_type": "display_data",
          "data": {
            "text/plain": [
              "<Figure size 400x300 with 1 Axes>"
            ],
            "image/png": "[encoded data removed]"
          },
          "metadata": {}
        }
      ],
      "source": [
        "import torch\n",
        "import matplotlib.pyplot as plt\n",
        "import torch.nn.functional as F\n",
        "\n",
        "# Input range for visualization\n",
        "x = torch.linspace(-10, 10, 100)\n",
        "\n",
        "# Compute values for different activation functions\n",
        "leaky_relu_y = F.leaky_relu(x, negative_slope=0.1)\n",
        "\n",
        "# Visualization\n",
        "plt.figure(figsize=(4, 3))\n",
        "\n",
        "# Leaky ReLU\n",
        "plt.plot(x.numpy(), leaky_relu_y.numpy(), label='Leaky ReLU', color='purple')\n",
        "\n",
        "# Graph styling\n",
        "plt.title('Activation Functions')\n",
        "plt.xlabel('Input')\n",
        "plt.ylabel('Output')\n",
        "plt.legend()\n",
        "plt.grid()\n",
        "plt.show()"
      ]
    },
    {
      "cell_type": "markdown",
      "id": "784334af",
      "metadata": {
        "id": "784334af"
      },
      "source": [
        "### **Multilayer Perceptron (MLP) Model**\n",
        "The MLP is an extension of the Perceptron, adding hidden layers for increased capacity to model non-linear relationships."
      ]
    },
    {
      "cell_type": "code",
      "execution_count": 19,
      "id": "e065465b",
      "metadata": {
        "id": "e065465b"
      },
      "outputs": [],
      "source": [
        "# Define the Multilayer Perceptron (MLP) model\n",
        "class MLP(nn.Module):\n",
        "    def __init__(self):\n",
        "        super(MLP, self).__init__()\n",
        "        self.fc1 = nn.Linear(28 * 28, 128)  # Hidden layer 1\n",
        "        self.fc2 = nn.Linear(128, 64)       # Hidden layer 2\n",
        "        self.fc3 = nn.Linear(64, 10)        # Output layer\n",
        "\n",
        "    def forward(self, x):\n",
        "        x = x.view(x.size(0), -1)  # Flatten the input\n",
        "        x = torch.relu(self.fc1(x))\n",
        "        x = torch.relu(self.fc2(x))\n",
        "        return self.fc3(x)"
      ]
    },
    {
      "cell_type": "markdown",
      "id": "235cc8fb",
      "metadata": {
        "id": "235cc8fb"
      },
      "source": [
        "### **Fully Connected Neural Network**\n",
        "This model uses a modular approach with nn.Sequential, streamlining the implementation of fully connected layers and activation functions."
      ]
    },
    {
      "cell_type": "code",
      "execution_count": 20,
      "id": "2d7926c6",
      "metadata": {
        "id": "2d7926c6"
      },
      "outputs": [],
      "source": [
        "# Define a Basic Fully Connected Neural Network\n",
        "class FullyConnectedNN(nn.Module):\n",
        "    def __init__(self):\n",
        "        super(FullyConnectedNN, self).__init__()\n",
        "        self.fc = nn.Sequential(\n",
        "            nn.Flatten(),\n",
        "            nn.Linear(28 * 28, 128),\n",
        "            nn.ReLU(),\n",
        "            nn.Linear(128, 64),\n",
        "            nn.ReLU(),\n",
        "            nn.Linear(64, 10)\n",
        "        )\n",
        "\n",
        "    def forward(self, x):\n",
        "        return self.fc(x)"
      ]
    },
    {
      "cell_type": "markdown",
      "id": "10c0819a",
      "metadata": {
        "id": "10c0819a"
      },
      "source": [
        "### **Simple CNN Model**\n",
        "The Simple Convolutional Neural Network (CNN) leverages convolutional layers for feature extraction, making it more effective for image classification tasks."
      ]
    },
    {
      "cell_type": "code",
      "execution_count": null,
      "id": "c6da3e63",
      "metadata": {
        "id": "c6da3e63"
      },
      "outputs": [],
      "source": [
        "# Define a simple CNN model\n",
        "class SimpleCNN(nn.Module):\n",
        "    def __init__(self):\n",
        "        super(SimpleCNN, self).__init__()\n",
        "        self.conv1 = nn.Conv2d(1, 32, kernel_size=3, padding=1)\n",
        "        self.conv2 = nn.Conv2d(32, 64, kernel_size=3, padding=1)\n",
        "        self.pool = nn.MaxPool2d(2, 2)\n",
        "        self.fc1 = nn.Linear(256 * 7 * 7, 128)\n",
        "        self.fc2 = nn.Linear(128, 10)\n",
        "        self.relu = nn.ReLU()\n",
        "\n",
        "    def forward(self, x):\n",
        "        x = self.relu(self.conv1(x))\n",
        "        x = self.pool(self.relu(self.conv2(x)))\n",
        "        x = x.view(-1, 256 * 7 * 7)\n",
        "        x = self.relu(self.fc1(x))\n",
        "        x = self.fc2(x)\n",
        "        return x"
      ]
    },
    {
      "cell_type": "markdown",
      "id": "a29ca50a",
      "metadata": {
        "id": "a29ca50a"
      },
      "source": [
        "## **Introduction of Loss Functions in Machine Learning**\n",
        "Loss functions are used to measure the error between the predicted outputs of a model and the actual target values. They play a critical role in training neural networks, guiding the optimization process to improve performance. This section introduces three common loss functions and provides visualizations for better understanding.\n",
        "\n",
        "---\n",
        "\n",
        "### **Mean Squared Error (MSE)**\n",
        "- Formula:\n",
        "\\begin{equation}\n",
        "  \\text{MSE} = \\frac{1}{n} \\sum_{i=1}^{n} (y_{\\text{pred}} - y_{\\text{true}})^2\n",
        "\\end{equation}\n",
        "- Characteristics:\n",
        "  - Penalizes larger errors more heavily due to squaring.\n",
        "  - Suitable for regression tasks.\n",
        "  - Sensitive to outliers.\n",
        "\n",
        "---\n",
        "\n",
        "### **Mean Absolute Error (MAE)**\n",
        "- Formula:\n",
        "\\begin{equation}\n",
        "  \\text{MAE} = \\frac{1}{n} \\sum_{i=1}^{n} |y_{\\text{pred}} - y_{\\text{true}}|\n",
        "\\end{equation}\n",
        "- Characteristics:\n",
        "  - Treats all errors equally by using absolute values.\n",
        "  - Robust to outliers compared to MSE.\n",
        "  - Converges more slowly in optimization compared to MSE.\n",
        "\n",
        "---\n",
        "\n",
        "### **Binary Cross-Entropy (BCE)**\n",
        "- Formula:\n",
        "\\begin{equation}\n",
        "  \\text{BCE} = -\\frac{1}{n} \\sum_{i=1}^{n} \\left[ y_{\\text{true}} \\log(y_{\\text{pred}}) + (1 - y_{\\text{true}}) \\log(1 - y_{\\text{pred}}) \\right]\n",
        "\\end{equation}\n",
        "- Characteristics:\n",
        "  - Used for binary classification tasks.\n",
        "  - Measures the difference between predicted probabilities and true binary labels.\n",
        "  - Sensitive to predicted values approaching 0 or 1 due to logarithmic terms.\n",
        "\n",
        "---\n",
        "<div style=\"background:#EEEEFF;color:black\">\n",
        "\n",
        "**Exercise 1.3.1**: Loss functions are essential for evaluating model performance. In this exercise, we will visualize three common loss functions: **Mean Squared Error (MSE)**, **Mean Absolute Error (MAE)**, and **Binary Cross-Entropy (BCE)**. By visualizing these functions, you'll gain a deeper understanding of their characteristics and how they behave for different input values. Follow these steps:\n",
        "\n",
        "1. Import Required Libraries\n",
        "    \n",
        "2. Define the Loss Functions\n",
        "    \n",
        "3. Generate Sample Data: Create a range of predicted values (y_pred) and true values (y_true). For simplicity, we'll use random values for y_true and vary y_pred between 0 and 1\n",
        "\n",
        "4. Calculate the Loss Functions: Now, we'll calculate the loss for each of the three functions (MSE, MAE, and BCE) by iterating over a range of predicted values and computing the corresponding loss.\n",
        "    \n",
        "5. Plot the Loss Functions\n",
        "</div>"
      ]
    },
    {
      "cell_type": "code",
      "execution_count": 35,
      "id": "5a2bbc5f",
      "metadata": {
        "id": "5a2bbc5f",
        "outputId": "91433bd2-69e8-49f0-b576-ab836bc9d476",
        "colab": {
          "base_uri": "https://localhost:8080/",
          "height": 564
        }
      },
      "outputs": [
        {
          "output_type": "display_data",
          "data": {
            "text/plain": [
              "<Figure size 700x600 with 1 Axes>"
            ],
            "image/png": "[encoded data removed]"
          },
          "metadata": {}
        }
      ],
      "source": [
        "import matplotlib.pyplot as plt\n",
        "import numpy as np\n",
        "\n",
        "def mse(y_pred, y_true):\n",
        "\t\treturn np.mean((y_pred - y_true)**2)\n",
        "\n",
        "def mae(y_pred, y_true):\n",
        "\t\treturn np.mean(np.abs(y_pred - y_true))\n",
        "\n",
        "def bce(y_pred, y_true):\n",
        "\t\tsmall = 1e-15 # prevent log(0)\n",
        "\t\ty_pred = np.clip(y_pred, small , 1-small) # Clip values to avoid log(0) and log(1)\n",
        "\t\treturn -np.mean(y_true*np.log(y_pred)+(1-y_true)*np.log(1-y_pred))\n",
        "\n",
        "y_true = np.random.randint(0,2,100)\n",
        "y_pred = np.linspace(0,1,100)\n",
        "mse_loss = []\n",
        "mae_loss = []\n",
        "bce_loss = []\n",
        "for y_p in y_pred:\n",
        "  mse_loss.append(mse(y_p, y_true))\n",
        "  mae_loss.append(mae(y_p, y_true))\n",
        "  bce_loss.append(bce(y_p, y_true))\n",
        "\n",
        "plt.figure(figsize=(7, 6))\n",
        "plt.plot(y_pred, mse_loss, label='MSE')\n",
        "plt.plot(y_pred, mae_loss, label='MAE')\n",
        "plt.plot(y_pred, bce_loss, label='BCE')\n",
        "plt.xlabel('Predicted Value (y_pred)')\n",
        "plt.ylabel('Loss')\n",
        "plt.title('Loss Functions Visualization')\n",
        "plt.legend()\n",
        "plt.grid(True)\n",
        "plt.show()"
      ]
    },
    {
      "cell_type": "markdown",
      "id": "4b760ea4",
      "metadata": {
        "id": "4b760ea4"
      },
      "source": [
        "### **Categorical Cross-Entropy (CCE)**\n",
        "- Formula:\n",
        "\\begin{equation}\n",
        "  \\text{CCE} = - \\sum_{c=1}^{C} y_{\\text{true}, c} \\log(y_{\\text{pred}, c})\n",
        "\\end{equation}\n",
        "- Characteristics:\n",
        "  - Used for multi-class classification tasks.\n",
        "  - Penalizes incorrect class predictions more heavily.\n",
        "  - Works with one-hot encoded true labels and probability distributions from softmax.\n",
        "\n",
        "**Example:**\n",
        "- Predicted probabilities for three classes: \\([0.8, 0.1, 0.1]\\).\n",
        "- True label: Class 0, represented as \\([1, 0, 0]\\).\n",
        "\n",
        "For this prediction:\n",
        "\\begin{equation}\n",
        "\\text{CCE} = - (1 \\cdot \\log(0.8) + 0 \\cdot \\log(0.1) + 0 \\cdot \\log(0.1)) = - \\log(0.8)\n",
        "\\end{equation}\n",
        "\n",
        "---\n",
        "\n",
        "<div style=\"background:#EEEEFF;color:black\">\n",
        "\n",
        "**Exercise 1.3.2**: In this exercise, we will visualize the Categorical Cross-Entropy (CCE) function and observe how it behaves for different predicted probabilities. Follow these steps:\n",
        "    \n",
        "1. Understand the Categorical Cross-Entropy Formula: Review the formula for CCE, where you compare the true class label (one-hot encoded) with the predicted class probabilities. This gives you an understanding of how the function works for multi-class classification problems.\n",
        "\n",
        "2. Generate Predicted Probabilities: Generate a range of predicted probabilities for a multi-class classification problem. Use three possible classes and vary the predicted probabilities between 0 and 1.\n",
        "\n",
        "3. Calculate CCE Loss: For each predicted probability distribution, calculate the CCE loss using the true label (e.g., class 0, 1, or 2). Visualize how the loss changes as the predicted probability for the true class increases or decreases.\n",
        "\n",
        "4. Plot the Loss Function: Create a plot where the x-axis represents the predicted probability for the true class, and the y-axis represents the corresponding CCE loss. This will allow you to observe how the CCE increases as the predicted probabilities for the true class deviate from the actual label.\n",
        "\n",
        "5. Analyze the Graph: After completing the visualization, analyze the graph to understand how the loss behaves. Focus on how the CCE increases as the predicted probability for the true class decreases, especially when the predicted probability is close to zero.\n",
        "    \n",
        "P.S. The given predictions are: [[0.8, 0.1, 0.1],[0.2, 0.5, 0.3],[0.1, 0.2, 0.7]] and corresponding labels are  [[1, 0, 0],[0, 1, 0],[0, 0, 1]]\n",
        "    \n",
        "</div>"
      ]
    },
    {
      "cell_type": "code",
      "execution_count": 37,
      "id": "26be726b",
      "metadata": {
        "id": "26be726b",
        "outputId": "f10fac28-f8a8-4be6-a419-795542862daf",
        "colab": {
          "base_uri": "https://localhost:8080/",
          "height": 489
        }
      },
      "outputs": [
        {
          "output_type": "stream",
          "name": "stdout",
          "text": [
            "CCE losses for given predictions: [None, None, None]\n"
          ]
        },
        {
          "output_type": "display_data",
          "data": {
            "text/plain": [
              "<Figure size 640x480 with 1 Axes>"
            ],
            "image/png": "[encoded data removed]"
          },
          "metadata": {}
        }
      ],
      "source": [
        "def CE(pre,tar):\n",
        "\tsmall = 1e-15\n",
        "\tpre = np.clip(pre,small,1-small)\n",
        "\tN = pre.shape[0]\n",
        "\tce = -np.sum(tar*np.log(pre))/N\n",
        "\n",
        "pre = np.array([[0.8, 0.1, 0.1], [0.2, 0.5, 0.3], [0.1, 0.2, 0.7]])\n",
        "labels = np.array([[1, 0, 0], [0, 1, 0], [0, 0, 1]])\n",
        "\n",
        "cce_loss = []\n",
        "for i in range(len(pre)):\n",
        "\tcce_loss.append(CE(pre[i],labels[i]))\n",
        "\n",
        "print(f\"CCE losses for given predictions: {cce_loss}\")\n",
        "\n",
        "\n",
        "# Generate data for the plot\n",
        "probs = np.linspace(0.01, 0.99, 100)  # Predicted probabilities\n",
        "losses = []\n",
        "for p in probs:\n",
        "\tlosses.append(-np.log(p))\n",
        "\n",
        "# Plot CCE loss vs. predicted probability\n",
        "plt.plot(probs, losses)\n",
        "plt.xlabel(\"Predicted Probability for True Class\")\n",
        "plt.ylabel(\"Categorical Cross-Entropy Loss\")\n",
        "plt.title(\"CCE Loss vs. Predicted Probability\")\n",
        "plt.grid(True)\n",
        "plt.show()\n",
        ""
      ]
    },
    {
      "cell_type": "markdown",
      "id": "479a3a99-7fc6-4828-9896-b3f5fba045af",
      "metadata": {
        "id": "479a3a99-7fc6-4828-9896-b3f5fba045af"
      },
      "source": [
        "**Conclusion**\n",
        "- **MSE** is suitable for regression tasks but sensitive to outliers.\n",
        "- **MAE** is robust to outliers but converges more slowly.\n",
        "- **BCE** is ideal for binary classification tasks, as it measures the error in predicted probabilities.\n",
        "- **Categorical Cross-Entropy** extends the idea to handle multi-class classification.\n",
        "\n",
        "\n",
        "Choosing the right loss function depends on the type of problem, the data's characteristics, and the desired behavior during optimization."
      ]
    },
    {
      "cell_type": "markdown",
      "id": "1d773f34-d7c6-48cd-acec-be1646b4cd6a",
      "metadata": {
        "id": "1d773f34-d7c6-48cd-acec-be1646b4cd6a"
      },
      "source": [
        "## **Introduction of Optimizers in Machine Learning**\n",
        "\n",
        "Optimizers are an essential component in training neural networks. They are used to adjust the weights of the model during the training process to minimize the loss function. PyTorch provides several built-in optimizers in the `torch.optim` module, including **Adam** and **SGD**.\n",
        "\n",
        "---\n",
        "\n",
        "### **SGD Optimizer in PyTorch**\n",
        "\n",
        "Stochastic Gradient Descent (SGD) is one of the foundational optimization algorithms in deep learning. It updates model parameters by taking steps in the negative direction of the gradient of the loss function. PyTorch provides an efficient implementation of SGD in the `torch.optim` module.\n",
        "\n",
        "---\n",
        "\n",
        "Below is an example of how to define and use the **SGD optimizer** in PyTorch:\n",
        "\n",
        "```python\n",
        "import torch.optim as optim\n",
        "learning_rate = 0.01\n",
        "momentum = 0.9\n",
        "optimizer = optim.SGD(model.parameters(), lr=learning_rate, momentum=momentum)\n",
        "```\n",
        "---\n",
        "### **Adam Optimizer**\n",
        "Adam (Adaptive Moment Estimation) is a popular optimization algorithm that combines the advantages of **momentum** and **RMSProp**. It adapts the learning rate for each parameter based on the first and second moments of the gradients.\n",
        "\n",
        "```python\n",
        "# Define the Adam optimizer\n",
        "learning_rate = 0.001\n",
        "optimizer = optim.Adam(model.parameters(), lr=learning_rate)\n",
        "```"
      ]
    },
    {
      "cell_type": "markdown",
      "id": "c725972d",
      "metadata": {
        "id": "c725972d"
      },
      "source": [
        "## **General Case: Design a Neural Network for MNIST**\n",
        "\n",
        "<div style=\"background:#EEEEFF;color:black\">\n",
        "\n",
        "**Exercise 1.5.1**: In this exercise, you will design and train a Convolutional Neural Network (CNN) to classify handwritten digits from the MNIST dataset. Follow these steps:\n",
        "1.Import Libraries\n",
        "    \n",
        "2.Load the MNIST Dataset\n",
        "    \n",
        "3.Define the Neural Network\n",
        "    \n",
        "4.Define Loss and Optimizer\n",
        "    \n",
        "5.Train the Model\n",
        "    \n",
        "6.Evaluate the Model\n",
        "    \n",
        "7.Visualize the Training Loss\n",
        "\n",
        "</div>"
      ]
    },
    {
      "cell_type": "code",
      "execution_count": 39,
      "id": "e7d76cf0",
      "metadata": {
        "id": "e7d76cf0",
        "outputId": "40367fdb-36f9-4543-d45b-ddfe49acd9eb",
        "colab": {
          "base_uri": "https://localhost:8080/",
          "height": 408
        }
      },
      "outputs": [
        {
          "output_type": "stream",
          "name": "stdout",
          "text": [
            "Epoch 1, Loss: 0.1195\n",
            "Epoch 2, Loss: 0.0361\n",
            "Epoch 3, Loss: 0.0213\n"
          ]
        },
        {
          "output_type": "error",
          "ename": "KeyboardInterrupt",
          "evalue": "",
          "traceback": [
            "\u001b[0;31m---------------------------------------------------------------------------\u001b[0m",
            "\u001b[0;31mKeyboardInterrupt\u001b[0m                         Traceback (most recent call last)",
            "\u001b[0;32m<ipython-input-39-959e4ef07602>\u001b[0m in \u001b[0;36m<cell line: 0>\u001b[0;34m()\u001b[0m\n\u001b[1;32m     42\u001b[0m         \u001b[0mloss\u001b[0m \u001b[0;34m=\u001b[0m \u001b[0mcriterion\u001b[0m\u001b[0;34m(\u001b[0m\u001b[0moutputs\u001b[0m\u001b[0;34m,\u001b[0m \u001b[0mlabels\u001b[0m\u001b[0;34m)\u001b[0m\u001b[0;34m\u001b[0m\u001b[0;34m\u001b[0m\u001b[0m\n\u001b[1;32m     43\u001b[0m         \u001b[0mloss\u001b[0m\u001b[0;34m.\u001b[0m\u001b[0mbackward\u001b[0m\u001b[0;34m(\u001b[0m\u001b[0;34m)\u001b[0m\u001b[0;34m\u001b[0m\u001b[0;34m\u001b[0m\u001b[0m\n\u001b[0;32m---> 44\u001b[0;31m         \u001b[0moptimizer\u001b[0m\u001b[0;34m.\u001b[0m\u001b[0mstep\u001b[0m\u001b[0;34m(\u001b[0m\u001b[0;34m)\u001b[0m\u001b[0;34m\u001b[0m\u001b[0;34m\u001b[0m\u001b[0m\n\u001b[0m\u001b[1;32m     45\u001b[0m         \u001b[0mrunning_loss\u001b[0m \u001b[0;34m+=\u001b[0m \u001b[0mloss\u001b[0m\u001b[0;34m.\u001b[0m\u001b[0mitem\u001b[0m\u001b[0;34m(\u001b[0m\u001b[0;34m)\u001b[0m\u001b[0;34m\u001b[0m\u001b[0;34m\u001b[0m\u001b[0m\n\u001b[1;32m     46\u001b[0m \u001b[0;34m\u001b[0m\u001b[0m\n",
            "\u001b[0;32m/usr/local/lib/python3.11/dist-packages/torch/optim/optimizer.py\u001b[0m in \u001b[0;36mwrapper\u001b[0;34m(*args, **kwargs)\u001b[0m\n\u001b[1;32m    485\u001b[0m                             )\n\u001b[1;32m    486\u001b[0m \u001b[0;34m\u001b[0m\u001b[0m\n\u001b[0;32m--> 487\u001b[0;31m                 \u001b[0mout\u001b[0m \u001b[0;34m=\u001b[0m \u001b[0mfunc\u001b[0m\u001b[0;34m(\u001b[0m\u001b[0;34m*\u001b[0m\u001b[0margs\u001b[0m\u001b[0;34m,\u001b[0m \u001b[0;34m**\u001b[0m\u001b[0mkwargs\u001b[0m\u001b[0;34m)\u001b[0m\u001b[0;34m\u001b[0m\u001b[0;34m\u001b[0m\u001b[0m\n\u001b[0m\u001b[1;32m    488\u001b[0m                 \u001b[0mself\u001b[0m\u001b[0;34m.\u001b[0m\u001b[0m_optimizer_step_code\u001b[0m\u001b[0;34m(\u001b[0m\u001b[0;34m)\u001b[0m\u001b[0;34m\u001b[0m\u001b[0;34m\u001b[0m\u001b[0m\n\u001b[1;32m    489\u001b[0m \u001b[0;34m\u001b[0m\u001b[0m\n",
            "\u001b[0;32m/usr/local/lib/python3.11/dist-packages/torch/optim/optimizer.py\u001b[0m in \u001b[0;36m_use_grad\u001b[0;34m(self, *args, **kwargs)\u001b[0m\n\u001b[1;32m     89\u001b[0m             \u001b[0mtorch\u001b[0m\u001b[0;34m.\u001b[0m\u001b[0mset_grad_enabled\u001b[0m\u001b[0;34m(\u001b[0m\u001b[0mself\u001b[0m\u001b[0;34m.\u001b[0m\u001b[0mdefaults\u001b[0m\u001b[0;34m[\u001b[0m\u001b[0;34m\"differentiable\"\u001b[0m\u001b[0;34m]\u001b[0m\u001b[0;34m)\u001b[0m\u001b[0;34m\u001b[0m\u001b[0;34m\u001b[0m\u001b[0m\n\u001b[1;32m     90\u001b[0m             \u001b[0mtorch\u001b[0m\u001b[0;34m.\u001b[0m\u001b[0m_dynamo\u001b[0m\u001b[0;34m.\u001b[0m\u001b[0mgraph_break\u001b[0m\u001b[0;34m(\u001b[0m\u001b[0;34m)\u001b[0m\u001b[0;34m\u001b[0m\u001b[0;34m\u001b[0m\u001b[0m\n\u001b[0;32m---> 91\u001b[0;31m             \u001b[0mret\u001b[0m \u001b[0;34m=\u001b[0m \u001b[0mfunc\u001b[0m\u001b[0;34m(\u001b[0m\u001b[0mself\u001b[0m\u001b[0;34m,\u001b[0m \u001b[0;34m*\u001b[0m\u001b[0margs\u001b[0m\u001b[0;34m,\u001b[0m \u001b[0;34m**\u001b[0m\u001b[0mkwargs\u001b[0m\u001b[0;34m)\u001b[0m\u001b[0;34m\u001b[0m\u001b[0;34m\u001b[0m\u001b[0m\n\u001b[0m\u001b[1;32m     92\u001b[0m         \u001b[0;32mfinally\u001b[0m\u001b[0;34m:\u001b[0m\u001b[0;34m\u001b[0m\u001b[0;34m\u001b[0m\u001b[0m\n\u001b[1;32m     93\u001b[0m             \u001b[0mtorch\u001b[0m\u001b[0;34m.\u001b[0m\u001b[0m_dynamo\u001b[0m\u001b[0;34m.\u001b[0m\u001b[0mgraph_break\u001b[0m\u001b[0;34m(\u001b[0m\u001b[0;34m)\u001b[0m\u001b[0;34m\u001b[0m\u001b[0;34m\u001b[0m\u001b[0m\n",
            "\u001b[0;32m/usr/local/lib/python3.11/dist-packages/torch/optim/adam.py\u001b[0m in \u001b[0;36mstep\u001b[0;34m(self, closure)\u001b[0m\n\u001b[1;32m    221\u001b[0m             )\n\u001b[1;32m    222\u001b[0m \u001b[0;34m\u001b[0m\u001b[0m\n\u001b[0;32m--> 223\u001b[0;31m             adam(\n\u001b[0m\u001b[1;32m    224\u001b[0m                 \u001b[0mparams_with_grad\u001b[0m\u001b[0;34m,\u001b[0m\u001b[0;34m\u001b[0m\u001b[0;34m\u001b[0m\u001b[0m\n\u001b[1;32m    225\u001b[0m                 \u001b[0mgrads\u001b[0m\u001b[0;34m,\u001b[0m\u001b[0;34m\u001b[0m\u001b[0;34m\u001b[0m\u001b[0m\n",
            "\u001b[0;32m/usr/local/lib/python3.11/dist-packages/torch/optim/optimizer.py\u001b[0m in \u001b[0;36mmaybe_fallback\u001b[0;34m(*args, **kwargs)\u001b[0m\n\u001b[1;32m    152\u001b[0m                 \u001b[0;32mreturn\u001b[0m \u001b[0mdisabled_func\u001b[0m\u001b[0;34m(\u001b[0m\u001b[0;34m*\u001b[0m\u001b[0margs\u001b[0m\u001b[0;34m,\u001b[0m \u001b[0;34m**\u001b[0m\u001b[0mkwargs\u001b[0m\u001b[0;34m)\u001b[0m\u001b[0;34m\u001b[0m\u001b[0;34m\u001b[0m\u001b[0m\n\u001b[1;32m    153\u001b[0m             \u001b[0;32melse\u001b[0m\u001b[0;34m:\u001b[0m\u001b[0;34m\u001b[0m\u001b[0;34m\u001b[0m\u001b[0m\n\u001b[0;32m--> 154\u001b[0;31m                 \u001b[0;32mreturn\u001b[0m \u001b[0mfunc\u001b[0m\u001b[0;34m(\u001b[0m\u001b[0;34m*\u001b[0m\u001b[0margs\u001b[0m\u001b[0;34m,\u001b[0m \u001b[0;34m**\u001b[0m\u001b[0mkwargs\u001b[0m\u001b[0;34m)\u001b[0m\u001b[0;34m\u001b[0m\u001b[0;34m\u001b[0m\u001b[0m\n\u001b[0m\u001b[1;32m    155\u001b[0m \u001b[0;34m\u001b[0m\u001b[0m\n\u001b[1;32m    156\u001b[0m         \u001b[0;32mreturn\u001b[0m \u001b[0mmaybe_fallback\u001b[0m\u001b[0;34m\u001b[0m\u001b[0;34m\u001b[0m\u001b[0m\n",
            "\u001b[0;32m/usr/local/lib/python3.11/dist-packages/torch/optim/adam.py\u001b[0m in \u001b[0;36madam\u001b[0;34m(params, grads, exp_avgs, exp_avg_sqs, max_exp_avg_sqs, state_steps, foreach, capturable, differentiable, fused, grad_scale, found_inf, has_complex, amsgrad, beta1, beta2, lr, weight_decay, eps, maximize)\u001b[0m\n\u001b[1;32m    782\u001b[0m         \u001b[0mfunc\u001b[0m \u001b[0;34m=\u001b[0m \u001b[0m_single_tensor_adam\u001b[0m\u001b[0;34m\u001b[0m\u001b[0;34m\u001b[0m\u001b[0m\n\u001b[1;32m    783\u001b[0m \u001b[0;34m\u001b[0m\u001b[0m\n\u001b[0;32m--> 784\u001b[0;31m     func(\n\u001b[0m\u001b[1;32m    785\u001b[0m         \u001b[0mparams\u001b[0m\u001b[0;34m,\u001b[0m\u001b[0;34m\u001b[0m\u001b[0;34m\u001b[0m\u001b[0m\n\u001b[1;32m    786\u001b[0m         \u001b[0mgrads\u001b[0m\u001b[0;34m,\u001b[0m\u001b[0;34m\u001b[0m\u001b[0;34m\u001b[0m\u001b[0m\n",
            "\u001b[0;32m/usr/local/lib/python3.11/dist-packages/torch/optim/adam.py\u001b[0m in \u001b[0;36m_single_tensor_adam\u001b[0;34m(params, grads, exp_avgs, exp_avg_sqs, max_exp_avg_sqs, state_steps, grad_scale, found_inf, amsgrad, has_complex, beta1, beta2, lr, weight_decay, eps, maximize, capturable, differentiable)\u001b[0m\n\u001b[1;32m    430\u001b[0m                 \u001b[0mdenom\u001b[0m \u001b[0;34m=\u001b[0m \u001b[0;34m(\u001b[0m\u001b[0mexp_avg_sq\u001b[0m\u001b[0;34m.\u001b[0m\u001b[0msqrt\u001b[0m\u001b[0;34m(\u001b[0m\u001b[0;34m)\u001b[0m \u001b[0;34m/\u001b[0m \u001b[0mbias_correction2_sqrt\u001b[0m\u001b[0;34m)\u001b[0m\u001b[0;34m.\u001b[0m\u001b[0madd_\u001b[0m\u001b[0;34m(\u001b[0m\u001b[0meps\u001b[0m\u001b[0;34m)\u001b[0m\u001b[0;34m\u001b[0m\u001b[0;34m\u001b[0m\u001b[0m\n\u001b[1;32m    431\u001b[0m \u001b[0;34m\u001b[0m\u001b[0m\n\u001b[0;32m--> 432\u001b[0;31m             \u001b[0mparam\u001b[0m\u001b[0;34m.\u001b[0m\u001b[0maddcdiv_\u001b[0m\u001b[0;34m(\u001b[0m\u001b[0mexp_avg\u001b[0m\u001b[0;34m,\u001b[0m \u001b[0mdenom\u001b[0m\u001b[0;34m,\u001b[0m \u001b[0mvalue\u001b[0m\u001b[0;34m=\u001b[0m\u001b[0;34m-\u001b[0m\u001b[0mstep_size\u001b[0m\u001b[0;34m)\u001b[0m\u001b[0;34m\u001b[0m\u001b[0;34m\u001b[0m\u001b[0m\n\u001b[0m\u001b[1;32m    433\u001b[0m \u001b[0;34m\u001b[0m\u001b[0m\n\u001b[1;32m    434\u001b[0m         \u001b[0;31m# Lastly, switch back to complex view\u001b[0m\u001b[0;34m\u001b[0m\u001b[0;34m\u001b[0m\u001b[0m\n",
            "\u001b[0;31mKeyboardInterrupt\u001b[0m: "
          ]
        }
      ],
      "source": [
        "transform = transforms.Compose([transforms.ToTensor(), transforms.Normalize((0.1307,), (0.3081,))])\n",
        "train_dataset = datasets.MNIST('data', train=True, download=True, transform=transform)\n",
        "test_dataset = datasets.MNIST('data', train=False, transform=transform)\n",
        "train_loader = DataLoader(train_dataset, batch_size=64, shuffle=True)\n",
        "test_loader = DataLoader(test_dataset, batch_size=1000, shuffle=False)\n",
        "\n",
        "# Define a simple CNN model\n",
        "class SimpleCNN(nn.Module):\n",
        "    def __init__(self):\n",
        "        super(SimpleCNN, self).__init__()\n",
        "        self.conv1 = nn.Conv2d(1, 32, kernel_size=3, padding=1)\n",
        "        self.conv2 = nn.Conv2d(32, 64, kernel_size=3, padding=1)\n",
        "        self.pool = nn.MaxPool2d(2, 2)\n",
        "        self.fc1 = nn.Linear(256 * 7 * 7, 128)\n",
        "        self.fc2 = nn.Linear(128, 10)\n",
        "        self.relu = nn.ReLU()\n",
        "\n",
        "    def forward(self, x):\n",
        "        x = self.relu(self.conv1(x))\n",
        "        x = self.pool(self.relu(self.conv2(x)))\n",
        "        x = x.view(-1, 256 * 7 * 7)\n",
        "        x = self.relu(self.fc1(x))\n",
        "        x = self.fc2(x)\n",
        "        return x\n",
        "\n",
        "# 3. Define the Neural Network (using SimpleCNN from the provided code)\n",
        "model = SimpleCNN()\n",
        "\n",
        "# 4. Define Loss and Optimizer\n",
        "criterion = nn.CrossEntropyLoss()\n",
        "optimizer = optim.Adam(model.parameters(), lr=0.001)\n",
        "\n",
        "# 5. Train the Model\n",
        "epochs = 5\n",
        "train_losses = []\n",
        "for epoch in range(epochs):\n",
        "    running_loss = 0.0\n",
        "    for i, data in enumerate(train_loader, 0):\n",
        "        inputs, labels = data\n",
        "        optimizer.zero_grad()\n",
        "        outputs = model(inputs)\n",
        "        loss = criterion(outputs, labels)\n",
        "        loss.backward()\n",
        "        optimizer.step()\n",
        "        running_loss += loss.item()\n",
        "\n",
        "    epoch_loss = running_loss / len(train_loader)\n",
        "    train_losses.append(epoch_loss)\n",
        "    print(f'Epoch {epoch+1}, Loss: {epoch_loss:.4f}')\n",
        "\n",
        "print('Finished Training')\n",
        "\n",
        "# 6. Evaluate the Model\n",
        "correct = 0\n",
        "total = 0\n",
        "with torch.no_grad():\n",
        "    for data in test_loader:\n",
        "        images, labels = data\n",
        "        outputs = model(images)\n",
        "        _, predicted = torch.max(outputs.data, 1)\n",
        "        total += labels.size(0)\n",
        "        correct += (predicted == labels).sum().item()\n",
        "\n",
        "accuracy = 100 * correct / total\n",
        "print(f'Accuracy of the network on the 10000 test images: {accuracy:.2f}%')\n",
        "\n",
        "\n",
        "# 7. Visualize the Training Loss\n",
        "plt.plot(train_losses)\n",
        "plt.xlabel('Epoch')\n",
        "plt.ylabel('Training Loss')\n",
        "plt.title('Training Loss Curve')\n",
        "plt.grid(True)\n",
        "plt.show()\n"
      ]
    },
    {
      "cell_type": "markdown",
      "id": "e18905b5-e8e0-441b-82b0-e66556d16e61",
      "metadata": {
        "id": "e18905b5-e8e0-441b-82b0-e66556d16e61"
      },
      "source": [
        "<div style=\"background:#EEEEFF;color:black\">\n",
        "\n",
        "**Exercise 1.5.2**:\n",
        "    \n",
        "**For More Challenge:**\n",
        "\n",
        "1.Try modifying the architecture (e.g., add more layers or units).\n",
        "    \n",
        "2.Experiment with different learning rates or optimizers.\n",
        "    \n",
        "3.Visualize predictions made by the model on a few test images."
      ]
    },
    {
      "cell_type": "code",
      "execution_count": null,
      "id": "34660448-6740-4f70-b48d-16b1721fdeb7",
      "metadata": {
        "id": "34660448-6740-4f70-b48d-16b1721fdeb7",
        "outputId": "3f1312d4-193f-467a-e139-722756afba40"
      },
      "outputs": [
        {
          "data": {
            "image/png": "[encoded data removed]",
            "text/plain": [
              "<Figure size 1200x600 with 6 Axes>"
            ]
          },
          "metadata": {},
          "output_type": "display_data"
        }
      ],
      "source": [
        "# prompt: For More Challenge:\n",
        "# 1.Try modifying the architecture (e.g., add more layers or units).\n",
        "# 2.Experiment with different learning rates or optimizers.\n",
        "# 3.Visualize predictions made by the model on a few test images.\n",
        "\n",
        "import matplotlib.pyplot as plt\n",
        "# 1. Modify the architecture\n",
        "class ImprovedCNN(nn.Module):\n",
        "    def __init__(self):\n",
        "        super(ImprovedCNN, self).__init__()\n",
        "        self.conv1 = nn.Conv2d(1, 64, kernel_size=3, padding=1)  # Increased output channels\n",
        "        self.conv2 = nn.Conv2d(64, 128, kernel_size=3, padding=1) # Increased output channels\n",
        "        self.conv3 = nn.Conv2d(128, 256, kernel_size=3, padding=1) # Added another convolutional layer\n",
        "        self.pool = nn.MaxPool2d(2, 2)\n",
        "        self.fc1 = nn.Linear(256 * 4 * 4, 256)  # Adjusted input features for the new architecture\n",
        "        self.fc2 = nn.Linear(256, 128)  # Added another fully connected layer\n",
        "        self.fc3 = nn.Linear(128, 10)\n",
        "        self.relu = nn.ReLU()\n",
        "\n",
        "    def forward(self, x):\n",
        "        x = self.relu(self.conv1(x))\n",
        "        x = self.pool(self.relu(self.conv2(x)))\n",
        "        x = self.pool(self.relu(self.conv3(x))) # Applying pooling after conv3\n",
        "        x = x.view(-1, 256 * 4 * 4) # Adjusted view for the new architecture\n",
        "        x = self.relu(self.fc1(x))\n",
        "        x = self.relu(self.fc2(x)) # Added ReLU activation for fc2\n",
        "        x = self.fc3(x)\n",
        "        return x\n",
        "\n",
        "model = ImprovedCNN()\n",
        "\n",
        "\n",
        "# 2. Experiment with different learning rates or optimizers\n",
        "criterion = nn.CrossEntropyLoss()\n",
        "optimizer = optim.Adam(model.parameters(), lr=0.0005) # Reduced learning rate\n",
        "\n",
        "\n",
        "# ... (rest of the training and evaluation code remains the same) ...\n",
        "\n",
        "\n",
        "# 3. Visualize predictions\n",
        "# Get a batch of test images and labels\n",
        "dataiter = iter(test_loader)\n",
        "images, labels = next(dataiter)\n",
        "\n",
        "# Make predictions\n",
        "outputs = model(images)\n",
        "_, predicted = torch.max(outputs, 1)\n",
        "\n",
        "# Display the images and predictions\n",
        "fig = plt.figure(figsize=(10, 4))\n",
        "for idx in range(10):\n",
        "    ax = fig.add_subplot(2, 5, idx + 1, xticks=[], yticks=[])\n",
        "    ax.imshow(images[idx].squeeze().numpy(), cmap='gray')\n",
        "    ax.set_title(f\"Predicted: {predicted[idx]} (Actual: {labels[idx]})\")\n",
        "plt.tight_layout()\n",
        "plt.show()\n"
      ]
    },
    {
      "cell_type": "code",
      "execution_count": null,
      "id": "442f96bd-863a-49a1-8695-d740b515e110",
      "metadata": {
        "id": "442f96bd-863a-49a1-8695-d740b515e110"
      },
      "outputs": [],
      "source": []
    }
  ],
  "metadata": {
    "kernelspec": {
      "display_name": "Python 3 (ipykernel)",
      "language": "python",
      "name": "python3"
    },
    "language_info": {
      "codemirror_mode": {
        "name": "ipython",
        "version": 3
      },
      "file_extension": ".py",
      "mimetype": "text/x-python",
      "name": "python",
      "nbconvert_exporter": "python",
      "pygments_lexer": "ipython3",
      "version": "3.7.12"
    },
    "colab": {
      "provenance": []
    }
  },
  "nbformat": 4,
  "nbformat_minor": 5
}